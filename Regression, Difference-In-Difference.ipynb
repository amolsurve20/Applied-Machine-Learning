{
 "cells": [
  {
   "cell_type": "markdown",
   "metadata": {
    "ein.tags": [
     "worksheet-0"
    ],
    "slideshow": {
     "slide_type": "-"
    }
   },
   "source": [
    "# Problem Set 2, Amol Surve\n"
   ]
  },
  {
   "cell_type": "markdown",
   "metadata": {
    "ein.tags": [
     "worksheet-0"
    ],
    "slideshow": {
     "slide_type": "-"
    }
   },
   "source": [
    "## Introduction to the assignment\n",
    "\n",
    "For this assignment, you will be using data from the [Progresa program](http://en.wikipedia.org/wiki/Oportunidades), a government social assistance program in Mexico. This program, as well as the details of its impact, are described in the paper \"[School subsidies for the poor: evaluating the Mexican Progresa poverty program](http://www.sciencedirect.com/science/article/pii/S0304387803001858)\", by Paul Shultz (available on Canvas). Please familiarize yourself with the PROGRESA program before beginning this problem set, so you have a rough sense of where the data come from and how they were generated. If you just proceed into the problem set without understanding Progresa or the data, it will be very difficult!\n",
    "\n",
    "The goal of this problem set is to implement some of the basic econometric techniques that you are learning in class to measure the impact of Progresa on secondary school enrollment rates. The timeline of the program was:\n",
    "\n",
    " * Baseline survey conducted in 1997\n",
    " * Intervention begins in 1998, \"Wave 1\" of data collected in 1998\n",
    " * \"Wave 2 of data\" collected in 1999\n",
    " * Evaluation ends in 2000, at which point the control villages were treated. \n",
    " \n",
    "When you are ready, download the progresa_sample.csv data from Canvas. The data are actual data collected to evaluate the impact of the Progresa program.  In this file, each row corresponds to an observation taken for a given child for a given year. There are two years of data (1997 and 1998), and just under 40,000 children who are surveyed in each year. For each child-year observation, the following variables are collected:\n",
    "\n",
    "| Variable name | Description|\n",
    "|---------|---------|\n",
    "|year\t  |year in which data is collected\n",
    "|sex\t  |male = 1|\n",
    "|indig\t  |indigenous = 1|\n",
    "|dist_sec |nearest distance to a secondary school|\n",
    "|sc\t      |enrolled in school in year of survey|\n",
    "|grc      |grade enrolled|\n",
    "|fam_n    |family size|\n",
    "|min_dist |\tmin distance to an urban center|\n",
    "|dist_cap |\tmin distance to the capital|\n",
    "|poor     |\tpoor = 1|\n",
    "|progresa |treatment =1|\n",
    "|hohedu\t  |years of schooling of head of household|\n",
    "|hohwag\t  |monthly wages of head of household|\n",
    "|welfare_index|\twelfare index used to classify poor|\n",
    "|hohsex\t  |gender of head of household (male=1)|\n",
    "|hohage   |age of head of household|\n",
    "|age      |years old|\n",
    "|folnum\t  |individual id|\n",
    "|village  |\tvillage id|\n",
    "|sc97\t  |schooling in 1997|"
   ]
  },
  {
   "cell_type": "markdown",
   "metadata": {
    "ein.tags": [
     "worksheet-0"
    ],
    "slideshow": {
     "slide_type": "-"
    }
   },
   "source": [
    "---\n",
    "\n",
    "##Part 1: Descriptive analysis\n",
    "\n",
    "### 1.1\tSummary Statistics\n",
    "\n",
    "Present summary statistics (mean and standard deviation) for all of the demographic variables in the dataset (i.e., everything except year, folnum, village). Present these in a single table alphabetized by variable name. Do NOT simply expect the grader to scroll through your output!"
   ]
  },
  {
   "cell_type": "code",
   "execution_count": 148,
   "metadata": {
    "collapsed": true
   },
   "outputs": [],
   "source": [
    "import pandas as pd\n",
    "import numpy as np\n",
    "import matplotlib.pyplot as plt\n",
    "from __future__ import division\n",
    "import scipy.stats\n",
    "from sklearn import datasets, linear_model\n",
    "from matplotlib import pyplot as plt\n",
    "import statsmodels.formula.api as smf"
   ]
  },
  {
   "cell_type": "code",
   "execution_count": 149,
   "metadata": {
    "autoscroll": "json-false",
    "collapsed": false,
    "ein.tags": [
     "worksheet-0"
    ],
    "slideshow": {
     "slide_type": "-"
    }
   },
   "outputs": [],
   "source": [
    "#inputing dataframe\n",
    "data= pd.read_csv('progresa_sample.csv')\n",
    "prog=data"
   ]
  },
  {
   "cell_type": "code",
   "execution_count": 150,
   "metadata": {
    "collapsed": false
   },
   "outputs": [
    {
     "name": "stderr",
     "output_type": "stream",
     "text": [
      "/Users/amolsurve/anaconda/lib/python3.5/site-packages/numpy/lib/function_base.py:3834: RuntimeWarning: Invalid value encountered in percentile\n",
      "  RuntimeWarning)\n"
     ]
    },
    {
     "data": {
      "text/html": [
       "<div>\n",
       "<table border=\"1\" class=\"dataframe\">\n",
       "  <thead>\n",
       "    <tr style=\"text-align: right;\">\n",
       "      <th></th>\n",
       "      <th>mean</th>\n",
       "      <th>std</th>\n",
       "    </tr>\n",
       "  </thead>\n",
       "  <tbody>\n",
       "    <tr>\n",
       "      <th>age</th>\n",
       "      <td>11.366460</td>\n",
       "      <td>3.167744</td>\n",
       "    </tr>\n",
       "    <tr>\n",
       "      <th>dist_cap</th>\n",
       "      <td>147.674452</td>\n",
       "      <td>76.063134</td>\n",
       "    </tr>\n",
       "    <tr>\n",
       "      <th>dist_sec</th>\n",
       "      <td>2.418910</td>\n",
       "      <td>2.234109</td>\n",
       "    </tr>\n",
       "    <tr>\n",
       "      <th>fam_n</th>\n",
       "      <td>7.215715</td>\n",
       "      <td>2.352900</td>\n",
       "    </tr>\n",
       "    <tr>\n",
       "      <th>grc</th>\n",
       "      <td>3.963537</td>\n",
       "      <td>2.499063</td>\n",
       "    </tr>\n",
       "    <tr>\n",
       "      <th>grc97</th>\n",
       "      <td>3.705372</td>\n",
       "      <td>2.572387</td>\n",
       "    </tr>\n",
       "    <tr>\n",
       "      <th>hohage</th>\n",
       "      <td>44.436717</td>\n",
       "      <td>11.620372</td>\n",
       "    </tr>\n",
       "    <tr>\n",
       "      <th>hohedu</th>\n",
       "      <td>2.768104</td>\n",
       "      <td>2.656106</td>\n",
       "    </tr>\n",
       "    <tr>\n",
       "      <th>hohsex</th>\n",
       "      <td>0.925185</td>\n",
       "      <td>0.263095</td>\n",
       "    </tr>\n",
       "    <tr>\n",
       "      <th>hohwag</th>\n",
       "      <td>586.985312</td>\n",
       "      <td>788.133664</td>\n",
       "    </tr>\n",
       "    <tr>\n",
       "      <th>indig</th>\n",
       "      <td>0.298324</td>\n",
       "      <td>0.457525</td>\n",
       "    </tr>\n",
       "    <tr>\n",
       "      <th>min_dist</th>\n",
       "      <td>103.447520</td>\n",
       "      <td>42.089441</td>\n",
       "    </tr>\n",
       "    <tr>\n",
       "      <th>sc</th>\n",
       "      <td>0.819818</td>\n",
       "      <td>0.384342</td>\n",
       "    </tr>\n",
       "    <tr>\n",
       "      <th>sc97</th>\n",
       "      <td>0.813922</td>\n",
       "      <td>0.389172</td>\n",
       "    </tr>\n",
       "    <tr>\n",
       "      <th>sex</th>\n",
       "      <td>0.512211</td>\n",
       "      <td>0.499854</td>\n",
       "    </tr>\n",
       "    <tr>\n",
       "      <th>welfare_index</th>\n",
       "      <td>690.346564</td>\n",
       "      <td>139.491130</td>\n",
       "    </tr>\n",
       "  </tbody>\n",
       "</table>\n",
       "</div>"
      ],
      "text/plain": [
       "                     mean         std\n",
       "age             11.366460    3.167744\n",
       "dist_cap       147.674452   76.063134\n",
       "dist_sec         2.418910    2.234109\n",
       "fam_n            7.215715    2.352900\n",
       "grc              3.963537    2.499063\n",
       "grc97            3.705372    2.572387\n",
       "hohage          44.436717   11.620372\n",
       "hohedu           2.768104    2.656106\n",
       "hohsex           0.925185    0.263095\n",
       "hohwag         586.985312  788.133664\n",
       "indig            0.298324    0.457525\n",
       "min_dist       103.447520   42.089441\n",
       "sc               0.819818    0.384342\n",
       "sc97             0.813922    0.389172\n",
       "sex              0.512211    0.499854\n",
       "welfare_index  690.346564  139.491130"
      ]
     },
     "execution_count": 150,
     "metadata": {},
     "output_type": "execute_result"
    }
   ],
   "source": [
    "#dropping columns which are not required\n",
    "df = prog.drop(['year', 'folnum', 'village'], axis=1)\n",
    "#sorting\n",
    "stats=df.reindex_axis(sorted(df.columns), axis=1)\n",
    "#getting summary stats\n",
    "summary=stats.describe()\n",
    "#transposing \n",
    "res=summary.transpose()\n",
    "#printing mean and standard deviation\n",
    "res[['mean', 'std']]"
   ]
  },
  {
   "cell_type": "markdown",
   "metadata": {
    "ein.tags": [
     "worksheet-0"
    ],
    "slideshow": {
     "slide_type": "-"
    }
   },
   "source": [
    "### 1.2 Differences at baseline?\n",
    "\n",
    "Are the baseline (1997) demographic characteristics **for the poor**  different in treatment and control villages? Hint: Use a T-Test to determine whether there is a statistically significant difference in the average values of each of the variables in the dataset. Focus only on the data from 1997 for individuals who are poor (i.e., poor=='pobre').\n",
    "\n",
    "Present your results in a single table with the following columns and 14 (or so) rows:\n",
    "\n",
    "| Variable name | Average value (Treatment villages) | Average value (Control villages) | Difference (Treat - Control) | p-value |\n",
    "|------|------|------|------|------|\n",
    "|Male  |?     |?     |?     |?     |\n"
   ]
  },
  {
   "cell_type": "markdown",
   "metadata": {},
   "source": [
    "For the variable 'progresa', the value '0' indicates the instances that were not given the subsidy - the control group. The value 'basal' indicates the instances that were given the subsidy - the treatment group."
   ]
  },
  {
   "cell_type": "code",
   "execution_count": 151,
   "metadata": {
    "autoscroll": "json-false",
    "collapsed": false,
    "ein.tags": [
     "worksheet-0"
    ],
    "slideshow": {
     "slide_type": "-"
    }
   },
   "outputs": [],
   "source": [
    "#Subsetting the dataframe to get treatment group\n",
    "treatment=prog.loc[prog['progresa'] =='basal']\n",
    "#Poor from treatment group\n",
    "poorT=treatment.loc[treatment['poor']=='pobre']\n",
    "poorT=poorT.loc[poorT['year']==97]"
   ]
  },
  {
   "cell_type": "code",
   "execution_count": 152,
   "metadata": {
    "collapsed": false
   },
   "outputs": [],
   "source": [
    "#Subsetting the dataframe to get control group\n",
    "control=prog.loc[prog['progresa'] =='0']\n",
    "#Poor from control group\n",
    "poorC=control.loc[control['poor']=='pobre']\n",
    "poorC=poorC.loc[poorC['year']==97]"
   ]
  },
  {
   "cell_type": "code",
   "execution_count": 153,
   "metadata": {
    "collapsed": false
   },
   "outputs": [
    {
     "data": {
      "text/html": [
       "<div>\n",
       "<table border=\"1\" class=\"dataframe\">\n",
       "  <thead>\n",
       "    <tr style=\"text-align: right;\">\n",
       "      <th></th>\n",
       "      <th>Variable name</th>\n",
       "      <th>Average Value (Treatment villages)</th>\n",
       "      <th>Average value (Control villages)</th>\n",
       "      <th>Difference (Treat - Control)</th>\n",
       "      <th>p-value</th>\n",
       "    </tr>\n",
       "  </thead>\n",
       "  <tbody>\n",
       "    <tr>\n",
       "      <th>0</th>\n",
       "      <td>age</td>\n",
       "      <td>10.7170</td>\n",
       "      <td>10.7420</td>\n",
       "      <td>-0.0250</td>\n",
       "      <td>0.479</td>\n",
       "    </tr>\n",
       "    <tr>\n",
       "      <th>1</th>\n",
       "      <td>dist_cap</td>\n",
       "      <td>150.8291</td>\n",
       "      <td>153.7697</td>\n",
       "      <td>-2.9407</td>\n",
       "      <td>0.001</td>\n",
       "    </tr>\n",
       "    <tr>\n",
       "      <th>2</th>\n",
       "      <td>dist_sec</td>\n",
       "      <td>2.4531</td>\n",
       "      <td>2.5077</td>\n",
       "      <td>-0.0545</td>\n",
       "      <td>0.036</td>\n",
       "    </tr>\n",
       "    <tr>\n",
       "      <th>3</th>\n",
       "      <td>fam_n</td>\n",
       "      <td>7.2813</td>\n",
       "      <td>7.3025</td>\n",
       "      <td>-0.0211</td>\n",
       "      <td>0.427</td>\n",
       "    </tr>\n",
       "    <tr>\n",
       "      <th>4</th>\n",
       "      <td>grc</td>\n",
       "      <td>3.5316</td>\n",
       "      <td>3.5430</td>\n",
       "      <td>-0.0115</td>\n",
       "      <td>0.689</td>\n",
       "    </tr>\n",
       "    <tr>\n",
       "      <th>5</th>\n",
       "      <td>grc97</td>\n",
       "      <td>3.5316</td>\n",
       "      <td>3.5430</td>\n",
       "      <td>-0.0115</td>\n",
       "      <td>0.689</td>\n",
       "    </tr>\n",
       "    <tr>\n",
       "      <th>6</th>\n",
       "      <td>hohage</td>\n",
       "      <td>43.6488</td>\n",
       "      <td>44.2769</td>\n",
       "      <td>-0.6281</td>\n",
       "      <td>0.000</td>\n",
       "    </tr>\n",
       "    <tr>\n",
       "      <th>7</th>\n",
       "      <td>hohedu</td>\n",
       "      <td>2.6631</td>\n",
       "      <td>2.5903</td>\n",
       "      <td>0.0728</td>\n",
       "      <td>0.011</td>\n",
       "    </tr>\n",
       "    <tr>\n",
       "      <th>8</th>\n",
       "      <td>hohsex</td>\n",
       "      <td>0.9247</td>\n",
       "      <td>0.9229</td>\n",
       "      <td>0.0017</td>\n",
       "      <td>0.571</td>\n",
       "    </tr>\n",
       "    <tr>\n",
       "      <th>9</th>\n",
       "      <td>hohwag</td>\n",
       "      <td>544.3395</td>\n",
       "      <td>573.1636</td>\n",
       "      <td>-28.8240</td>\n",
       "      <td>0.000</td>\n",
       "    </tr>\n",
       "    <tr>\n",
       "      <th>10</th>\n",
       "      <td>min_dist</td>\n",
       "      <td>107.1529</td>\n",
       "      <td>103.2379</td>\n",
       "      <td>3.9151</td>\n",
       "      <td>0.000</td>\n",
       "    </tr>\n",
       "    <tr>\n",
       "      <th>11</th>\n",
       "      <td>sc</td>\n",
       "      <td>0.8227</td>\n",
       "      <td>0.8152</td>\n",
       "      <td>0.0075</td>\n",
       "      <td>0.095</td>\n",
       "    </tr>\n",
       "    <tr>\n",
       "      <th>12</th>\n",
       "      <td>sc97</td>\n",
       "      <td>0.8227</td>\n",
       "      <td>0.8152</td>\n",
       "      <td>0.0075</td>\n",
       "      <td>0.095</td>\n",
       "    </tr>\n",
       "    <tr>\n",
       "      <th>13</th>\n",
       "      <td>sex</td>\n",
       "      <td>0.5193</td>\n",
       "      <td>0.5051</td>\n",
       "      <td>0.0143</td>\n",
       "      <td>0.012</td>\n",
       "    </tr>\n",
       "    <tr>\n",
       "      <th>14</th>\n",
       "      <td>welfare_index</td>\n",
       "      <td>655.4284</td>\n",
       "      <td>659.5791</td>\n",
       "      <td>-4.1507</td>\n",
       "      <td>0.001</td>\n",
       "    </tr>\n",
       "  </tbody>\n",
       "</table>\n",
       "</div>"
      ],
      "text/plain": [
       "    Variable name  Average Value (Treatment villages)  \\\n",
       "0             age                             10.7170   \n",
       "1        dist_cap                            150.8291   \n",
       "2        dist_sec                              2.4531   \n",
       "3           fam_n                              7.2813   \n",
       "4             grc                              3.5316   \n",
       "5           grc97                              3.5316   \n",
       "6          hohage                             43.6488   \n",
       "7          hohedu                              2.6631   \n",
       "8          hohsex                              0.9247   \n",
       "9          hohwag                            544.3395   \n",
       "10       min_dist                            107.1529   \n",
       "11             sc                              0.8227   \n",
       "12           sc97                              0.8227   \n",
       "13            sex                              0.5193   \n",
       "14  welfare_index                            655.4284   \n",
       "\n",
       "    Average value (Control villages)  Difference (Treat - Control)  p-value  \n",
       "0                            10.7420                       -0.0250    0.479  \n",
       "1                           153.7697                       -2.9407    0.001  \n",
       "2                             2.5077                       -0.0545    0.036  \n",
       "3                             7.3025                       -0.0211    0.427  \n",
       "4                             3.5430                       -0.0115    0.689  \n",
       "5                             3.5430                       -0.0115    0.689  \n",
       "6                            44.2769                       -0.6281    0.000  \n",
       "7                             2.5903                        0.0728    0.011  \n",
       "8                             0.9229                        0.0017    0.571  \n",
       "9                           573.1636                      -28.8240    0.000  \n",
       "10                          103.2379                        3.9151    0.000  \n",
       "11                            0.8152                        0.0075    0.095  \n",
       "12                            0.8152                        0.0075    0.095  \n",
       "13                            0.5051                        0.0143    0.012  \n",
       "14                          659.5791                       -4.1507    0.001  "
      ]
     },
     "execution_count": 153,
     "metadata": {},
     "output_type": "execute_result"
    }
   ],
   "source": [
    "#Creating the empty dataframe for the required analysis\n",
    "table= pd.DataFrame(columns=['Variable name','Average Value (Treatment villages)', 'Average value (Control villages)',\n",
    "                            'Difference (Treat - Control)', 'p-value'])\n",
    "\n",
    "#Selecting only the required columns\n",
    "columns = ['sex', 'grc97','dist_sec','sc','grc','fam_n','min_dist', 'dist_cap','hohedu','hohwag',\n",
    "           'welfare_index', 'hohsex','hohage','age','sc97']\n",
    "count=0;\n",
    "\n",
    "#finding the mean and p-value\n",
    "for i in sorted(columns):\n",
    "    t, pv = scipy.stats.ttest_ind(poorT[~np.isnan(poorT[i])][i], poorC[~np.isnan(poorC[i])][i])  \n",
    "    table.loc[count] = [i, round(np.mean(poorT[i]),4), round(np.mean(poorC[i]),4), \n",
    "            round(np.mean(poorT[i]) - np.mean(poorC[i]),4), round(pv,3)]\n",
    "    count +=1\n",
    "\n",
    "#Displaying the result\n",
    "table\n"
   ]
  },
  {
   "cell_type": "markdown",
   "metadata": {
    "ein.tags": [
     "worksheet-0"
    ],
    "slideshow": {
     "slide_type": "-"
    }
   },
   "source": [
    "### 1.3 Interpretation\n",
    "\n",
    "* A: Are there statistically significant differences between treatment and control villages as baseline? \n",
    "* B: Why does it matter if there are differences at baseline?\n",
    "* C: What does this imply about how to measure the impact of the treatment?"
   ]
  },
  {
   "cell_type": "markdown",
   "metadata": {
    "autoscroll": "json-false",
    "collapsed": false,
    "ein.tags": [
     "worksheet-0"
    ],
    "slideshow": {
     "slide_type": "-"
    }
   },
   "source": [
    "A. For 95% confidence interval, then observation for any p-value less than 0.05 is conidered to be statistically significant. Following variables show statistically significant differences:\n",
    "\n",
    "1. dist_cap - Distance from capital.\n",
    "2. dist_sec - Distance from secondary school.\n",
    "3. hohage - Age of the head of household.\n",
    "4. hohedu - The highest education level of the head of household.\n",
    "5. hohwag - This shows that the treatment/control have different households when it comes to wages.\n",
    "6. sex - the sex of the child getting the education.\n",
    "7. welfare_index - welfare index of the ones in control/treatment group. \n",
    "\n",
    "B. Differences in the baselines matter because it might cause the Chance bias. the bias introdiced might change the treatment result that might affect the final outcome. We can take care of it by randomization but again there wont' be any gurantee that the assignment of the treatment and random group will be truely random.\n",
    "\n",
    "C. If there is a Chance bias, the outcome might be different resulting into decscrepencies in the result of the treatment's impact. In order to get the randomized experiment, multiple regression migt be helpful when performed with fixed effects. Adjusting for baseline differences might help in case of having significant differences in the treatment and control group. "
   ]
  },
  {
   "cell_type": "markdown",
   "metadata": {
    "ein.tags": [
     "worksheet-0"
    ],
    "slideshow": {
     "slide_type": "-"
    }
   },
   "source": [
    "### 1.4 Graphical exploration, part 1\n",
    "\n",
    "For each level of household head education, compute the average enrollment rate in 1997. Create a scatterplot that shows this relationship. What do you notice?"
   ]
  },
  {
   "cell_type": "code",
   "execution_count": 154,
   "metadata": {
    "autoscroll": "json-false",
    "collapsed": false,
    "ein.tags": [
     "worksheet-0"
    ],
    "slideshow": {
     "slide_type": "-"
    }
   },
   "outputs": [
    {
     "data": {
      "image/png": "[encoded data removed]",
      "text/plain": [
       "<matplotlib.figure.Figure at 0x123a49be0>"
      ]
     },
     "metadata": {},
     "output_type": "display_data"
    }
   ],
   "source": [
    "#Considering the dataframe with year 97 and using groupby on 'hihedu' to find the average based on years of education\n",
    "sctPlot = pd.DataFrame(prog[prog['year'] == 97].groupby('hohedu').mean()['sc'])\n",
    "\n",
    "# Plotting the graph\n",
    "plt.figure(figsize=(10,5))\n",
    "a = plt.scatter(x = sctPlot.index.tolist(), y = sctPlot['sc'], color = 'purple')\n",
    "plt.xlim(-0.5,25)\n",
    "plt.xlabel('Years of schooling of households head')\n",
    "plt.ylabel('School enrolment in `1997')\n",
    "plt.title('Increase in Average Schooling of Head of Household tends to increase the Enrolment in 1997')\n",
    "plt.show()"
   ]
  },
  {
   "cell_type": "markdown",
   "metadata": {},
   "source": [
    "As you can see in the above graph, the increase in the year's pf schooling of the household results into greater number of school enrollments for children. This shows that households with more number of years of education believes in educating their children as well and hence this trend."
   ]
  },
  {
   "cell_type": "markdown",
   "metadata": {
    "ein.tags": [
     "worksheet-0"
    ],
    "slideshow": {
     "slide_type": "-"
    }
   },
   "source": [
    "### 1.5 Graphical exploration, part 2\n",
    "\n",
    "Create a histogram of village enrollment rates **among poor households in treated villages**, before and after treatment. Specifically, for each village, calculate the average rate of enrollment of poor households in treated villages in 1997, then compute the average rate of enrollment of poor households in treated villages in 1998. Create two separate histograms showing the distribution of these average enrollments rates, one histogram for 1997 and one histogram for 1998. On each histogram, draw a vertical line that intersects the x-axis at the average value (across all households).\n",
    "* Does there appear to be a difference? Is this difference statistically significant?\n",
    "* Which D estimator in Schultz (2004) does this approach correspond to?"
   ]
  },
  {
   "cell_type": "code",
   "execution_count": 155,
   "metadata": {
    "autoscroll": "json-false",
    "collapsed": false,
    "ein.tags": [
     "worksheet-0"
    ],
    "slideshow": {
     "slide_type": "-"
    }
   },
   "outputs": [
    {
     "name": "stdout",
     "output_type": "stream",
     "text": [
      "The mean enrollment rate in `97 was: 81.38 %\n"
     ]
    },
    {
     "data": {
      "image/png": "[encoded data removed]",
      "text/plain": [
       "<matplotlib.figure.Figure at 0x113a6df98>"
      ]
     },
     "metadata": {},
     "output_type": "display_data"
    }
   ],
   "source": [
    "data= pd.read_csv('progresa_sample.csv')\n",
    "prog=data\n",
    "# Plotting for year  = 97\n",
    "plt.figure(figsize=(15,5))\n",
    "\n",
    "#Subsetting the dataframe to get treatment group\n",
    "treatment=prog.loc[prog['progresa'] =='basal']\n",
    "#Poor from treatment group\n",
    "poorT=treatment.loc[treatment['poor']=='pobre']\n",
    "poorT=poorT.loc[poorT['year']==97]\n",
    "\n",
    "# Creting a groupby 'village' table to get mean enrollment rates in villages \n",
    "poorT1= poorT.groupby('village').mean()\n",
    "\n",
    "\n",
    "# Calculating mean enrollment rates\n",
    "meanrate = np.array(poorT1['sc'])\n",
    "mean = meanrate.mean()\n",
    "print(\"The mean enrollment rate in `97 was:\", round(mean*100,2), '%')\n",
    "\n",
    "# Plotting histogram for year 97\n",
    "plot = plt.hist(meanrate, bins=10)\n",
    "plt.axvline(x = mean, color = 'orange')\n",
    "plt.xlabel('`97 school enrollment distribution')\n",
    "plt.title('School enrolment `97 distribution')\n",
    "plt.xlim([0.4,1])\n",
    "plt.show()\n",
    "\n"
   ]
  },
  {
   "cell_type": "code",
   "execution_count": 156,
   "metadata": {
    "collapsed": false
   },
   "outputs": [
    {
     "name": "stdout",
     "output_type": "stream",
     "text": [
      "The mean enrollment rate in `98 was: 82.95 %\n"
     ]
    },
    {
     "data": {
      "image/png": "[encoded data removed]",
      "text/plain": [
       "<matplotlib.figure.Figure at 0x114df3eb8>"
      ]
     },
     "metadata": {},
     "output_type": "display_data"
    }
   ],
   "source": [
    "data= pd.read_csv('progresa_sample.csv')\n",
    "prog=data\n",
    "# Plotting for year  = 98\n",
    "plt.figure(figsize=(15,5))\n",
    "\n",
    "#Subsetting the dataframe to get treatment group\n",
    "treatment=prog.loc[prog['progresa'] =='basal']\n",
    "#Poor from treatment group\n",
    "poorT=treatment.loc[treatment['poor']=='pobre']\n",
    "poorT=poorT.loc[poorT['year']==98]\n",
    "\n",
    "# Creting a groupby 'village' table to get mean enrollment rates in villages \n",
    "poorT2= poorT.groupby('village').mean()\n",
    "\n",
    "\n",
    "# Calculating mean enrollment rates\n",
    "meanrate= np.array(poorT2['sc'])\n",
    "mean = meanrate.mean()\n",
    "print(\"The mean enrollment rate in `98 was:\", round(mean*100,2), '%')\n",
    "\n",
    "# Plotting histogram for year 98\n",
    "plot = plt.hist(meanrate, bins=10)\n",
    "plt.axvline(x = mean, color = 'orange')\n",
    "plt.xlabel('`98 school enrollment distribution')\n",
    "plt.title('School enrolment `98 distribution')\n",
    "plt.xlim([0.4,1])\n",
    "plt.show()\n",
    "\n"
   ]
  },
  {
   "cell_type": "markdown",
   "metadata": {},
   "source": [
    "Based on the above histograms for 97 and 98, there is a shift in the enrollment rate. To determine this impact on poor households, we can verify the p-value:"
   ]
  },
  {
   "cell_type": "code",
   "execution_count": 157,
   "metadata": {
    "collapsed": false
   },
   "outputs": [
    {
     "name": "stdout",
     "output_type": "stream",
     "text": [
      "t-statistic is -2.01571348652\n",
      "p-value is 0.0442487003657\n"
     ]
    }
   ],
   "source": [
    "t, p = scipy.stats.ttest_ind( poorT1['sc'], poorT2['sc'], equal_var=True)\n",
    "print(\"t-statistic is\", t)\n",
    "print(\"p-value is\", p)"
   ]
  },
  {
   "cell_type": "markdown",
   "metadata": {},
   "source": [
    "Since, p valus is less than 0.05, we can reject the null hypothesis and conclude that the treatment has significant impact on the outcome."
   ]
  },
  {
   "cell_type": "code",
   "execution_count": 158,
   "metadata": {
    "collapsed": false
   },
   "outputs": [
    {
     "data": {
      "text/html": [
       "<div>\n",
       "<table border=\"1\" class=\"dataframe\">\n",
       "  <thead>\n",
       "    <tr style=\"text-align: right;\">\n",
       "      <th></th>\n",
       "      <th>year</th>\n",
       "      <th>sex</th>\n",
       "      <th>indig</th>\n",
       "      <th>dist_sec</th>\n",
       "      <th>sc</th>\n",
       "      <th>grc</th>\n",
       "      <th>fam_n</th>\n",
       "      <th>min_dist</th>\n",
       "      <th>dist_cap</th>\n",
       "      <th>poor</th>\n",
       "      <th>...</th>\n",
       "      <th>hohedu</th>\n",
       "      <th>hohwag</th>\n",
       "      <th>welfare_index</th>\n",
       "      <th>hohsex</th>\n",
       "      <th>hohage</th>\n",
       "      <th>age</th>\n",
       "      <th>village</th>\n",
       "      <th>folnum</th>\n",
       "      <th>grc97</th>\n",
       "      <th>sc97</th>\n",
       "    </tr>\n",
       "  </thead>\n",
       "  <tbody>\n",
       "    <tr>\n",
       "      <th>1</th>\n",
       "      <td>98</td>\n",
       "      <td>0.0</td>\n",
       "      <td>0.0</td>\n",
       "      <td>4.473</td>\n",
       "      <td>1.0</td>\n",
       "      <td>8.0</td>\n",
       "      <td>7</td>\n",
       "      <td>21.168384</td>\n",
       "      <td>21.168384</td>\n",
       "      <td>pobre</td>\n",
       "      <td>...</td>\n",
       "      <td>6</td>\n",
       "      <td>0.0</td>\n",
       "      <td>583.0</td>\n",
       "      <td>1.0</td>\n",
       "      <td>35.0</td>\n",
       "      <td>14</td>\n",
       "      <td>163</td>\n",
       "      <td>1</td>\n",
       "      <td>7</td>\n",
       "      <td>1.0</td>\n",
       "    </tr>\n",
       "    <tr>\n",
       "      <th>3</th>\n",
       "      <td>98</td>\n",
       "      <td>1.0</td>\n",
       "      <td>0.0</td>\n",
       "      <td>4.473</td>\n",
       "      <td>1.0</td>\n",
       "      <td>7.0</td>\n",
       "      <td>7</td>\n",
       "      <td>21.168384</td>\n",
       "      <td>21.168384</td>\n",
       "      <td>pobre</td>\n",
       "      <td>...</td>\n",
       "      <td>6</td>\n",
       "      <td>0.0</td>\n",
       "      <td>583.0</td>\n",
       "      <td>1.0</td>\n",
       "      <td>35.0</td>\n",
       "      <td>13</td>\n",
       "      <td>163</td>\n",
       "      <td>2</td>\n",
       "      <td>6</td>\n",
       "      <td>1.0</td>\n",
       "    </tr>\n",
       "    <tr>\n",
       "      <th>5</th>\n",
       "      <td>98</td>\n",
       "      <td>0.0</td>\n",
       "      <td>0.0</td>\n",
       "      <td>4.473</td>\n",
       "      <td>1.0</td>\n",
       "      <td>3.0</td>\n",
       "      <td>7</td>\n",
       "      <td>21.168384</td>\n",
       "      <td>21.168384</td>\n",
       "      <td>pobre</td>\n",
       "      <td>...</td>\n",
       "      <td>6</td>\n",
       "      <td>0.0</td>\n",
       "      <td>583.0</td>\n",
       "      <td>1.0</td>\n",
       "      <td>35.0</td>\n",
       "      <td>9</td>\n",
       "      <td>163</td>\n",
       "      <td>3</td>\n",
       "      <td>2</td>\n",
       "      <td>1.0</td>\n",
       "    </tr>\n",
       "    <tr>\n",
       "      <th>185</th>\n",
       "      <td>98</td>\n",
       "      <td>0.0</td>\n",
       "      <td>1.0</td>\n",
       "      <td>1.529</td>\n",
       "      <td>1.0</td>\n",
       "      <td>3.0</td>\n",
       "      <td>5</td>\n",
       "      <td>146.807724</td>\n",
       "      <td>198.916600</td>\n",
       "      <td>pobre</td>\n",
       "      <td>...</td>\n",
       "      <td>0</td>\n",
       "      <td>500.0</td>\n",
       "      <td>637.5</td>\n",
       "      <td>1.0</td>\n",
       "      <td>48.0</td>\n",
       "      <td>10</td>\n",
       "      <td>302</td>\n",
       "      <td>93</td>\n",
       "      <td>2</td>\n",
       "      <td>1.0</td>\n",
       "    </tr>\n",
       "    <tr>\n",
       "      <th>187</th>\n",
       "      <td>98</td>\n",
       "      <td>0.0</td>\n",
       "      <td>1.0</td>\n",
       "      <td>1.529</td>\n",
       "      <td>1.0</td>\n",
       "      <td>1.0</td>\n",
       "      <td>5</td>\n",
       "      <td>146.807724</td>\n",
       "      <td>198.916600</td>\n",
       "      <td>pobre</td>\n",
       "      <td>...</td>\n",
       "      <td>0</td>\n",
       "      <td>750.0</td>\n",
       "      <td>530.0</td>\n",
       "      <td>1.0</td>\n",
       "      <td>34.0</td>\n",
       "      <td>7</td>\n",
       "      <td>302</td>\n",
       "      <td>94</td>\n",
       "      <td>0</td>\n",
       "      <td>1.0</td>\n",
       "    </tr>\n",
       "  </tbody>\n",
       "</table>\n",
       "<p>5 rows × 21 columns</p>\n",
       "</div>"
      ],
      "text/plain": [
       "     year  sex  indig  dist_sec   sc  grc  fam_n    min_dist    dist_cap  \\\n",
       "1      98  0.0    0.0     4.473  1.0  8.0      7   21.168384   21.168384   \n",
       "3      98  1.0    0.0     4.473  1.0  7.0      7   21.168384   21.168384   \n",
       "5      98  0.0    0.0     4.473  1.0  3.0      7   21.168384   21.168384   \n",
       "185    98  0.0    1.0     1.529  1.0  3.0      5  146.807724  198.916600   \n",
       "187    98  0.0    1.0     1.529  1.0  1.0      5  146.807724  198.916600   \n",
       "\n",
       "      poor  ...  hohedu  hohwag  welfare_index  hohsex  hohage  age  village  \\\n",
       "1    pobre  ...       6     0.0          583.0     1.0    35.0   14      163   \n",
       "3    pobre  ...       6     0.0          583.0     1.0    35.0   13      163   \n",
       "5    pobre  ...       6     0.0          583.0     1.0    35.0    9      163   \n",
       "185  pobre  ...       0   500.0          637.5     1.0    48.0   10      302   \n",
       "187  pobre  ...       0   750.0          530.0     1.0    34.0    7      302   \n",
       "\n",
       "     folnum  grc97  sc97  \n",
       "1         1      7   1.0  \n",
       "3         2      6   1.0  \n",
       "5         3      2   1.0  \n",
       "185      93      2   1.0  \n",
       "187      94      0   1.0  \n",
       "\n",
       "[5 rows x 21 columns]"
      ]
     },
     "execution_count": 158,
     "metadata": {},
     "output_type": "execute_result"
    }
   ],
   "source": [
    "data= pd.read_csv('progresa_sample.csv')\n",
    "prog=data\n",
    "# Subsetting data for the use in histogram plot\n",
    "df1= prog[prog['poor'] == 'pobre']\n",
    "df2= df1[df1['year'] == 98]\n",
    "treatment= df2[df2['progresa'] == 'basal']\n",
    "treatment.head(5)\n",
    "control = df2[df2['progresa'] == '0']\n",
    "control.head(5)"
   ]
  },
  {
   "cell_type": "markdown",
   "metadata": {
    "ein.tags": [
     "worksheet-0"
    ],
    "slideshow": {
     "slide_type": "-"
    }
   },
   "source": [
    "## Part 2: Measuring Impact\n",
    "\n",
    "### 2.1 Simple differences: T-test\n",
    "\n",
    "Start out by estimating the impact of Progresa using \"simple differences.\" Restricting yourself to data from 1998 (after treatment).\n",
    "* calculate the average enrollment rate among **poor** households in the Treatment villages and the average enrollment rate among **poor** households in the control villages.\n",
    "* Which difference estimator in Schultz (2004) does this approach correspond to?\n",
    "* Use a t-test to determine if this difference is statistically significant. What do you conclude?"
   ]
  },
  {
   "cell_type": "code",
   "execution_count": 166,
   "metadata": {
    "autoscroll": "json-false",
    "collapsed": false,
    "ein.tags": [
     "worksheet-0"
    ],
    "slideshow": {
     "slide_type": "-"
    }
   },
   "outputs": [
    {
     "name": "stdout",
     "output_type": "stream",
     "text": [
      "0.8464791213954308\n",
      "0.807636956730308\n",
      "Average difference is 0.0388421646651228\n"
     ]
    },
    {
     "data": {
      "text/html": [
       "<div>\n",
       "<table border=\"1\" class=\"dataframe\">\n",
       "  <thead>\n",
       "    <tr style=\"text-align: right;\">\n",
       "      <th></th>\n",
       "      <th>Value</th>\n",
       "    </tr>\n",
       "  </thead>\n",
       "  <tbody>\n",
       "    <tr>\n",
       "      <th>T-statistic</th>\n",
       "      <td>8.359</td>\n",
       "    </tr>\n",
       "    <tr>\n",
       "      <th>p-value</th>\n",
       "      <td>0.000</td>\n",
       "    </tr>\n",
       "  </tbody>\n",
       "</table>\n",
       "</div>"
      ],
      "text/plain": [
       "             Value\n",
       "T-statistic  8.359\n",
       "p-value      0.000"
      ]
     },
     "execution_count": 166,
     "metadata": {},
     "output_type": "execute_result"
    }
   ],
   "source": [
    "#Sunsetting and finding the mean for treatment and control groups\n",
    "enrollmentT=treatment['sc'].mean()\n",
    "enrollmentC=control['sc'].mean()\n",
    "print(enrollmentT)\n",
    "print(enrollmentC)\n",
    "print(\"Average difference is\",enrollmentT-enrollmentC)\n",
    "#t-test and p value\n",
    "t, p = scipy.stats.ttest_ind(treatment[~np.isnan(treatment['sc'])]['sc'],\n",
    "                                        control[~np.isnan(control['sc'])]['sc'])\n",
    "\n",
    "#Printing results\n",
    "pd.DataFrame(list([round(t,3), round(p,4)]),\n",
    "            index = ['T-statistic', 'p-value'], columns = ['Value'])"
   ]
  },
  {
   "cell_type": "markdown",
   "metadata": {},
   "source": [
    "The average enrollment rate among poor households in the Treatment is 0.8465 villages.\n",
    "The average enrollment rate among poor households is 0.8076 in the control villages.\n",
    "The difference is 0.0388.\n",
    "\n",
    "Results of the single difference are statistically significant since it is < 0.05. Hence, there is an impact of the treatment on the poor household school enrollment rates.\n"
   ]
  },
  {
   "cell_type": "markdown",
   "metadata": {
    "ein.tags": [
     "worksheet-0"
    ],
    "slideshow": {
     "slide_type": "-"
    }
   },
   "source": [
    "### 2.2 Simple differences: Regression\n",
    "\n",
    "Estimate the effects of Progresa on enrollment using a regression model, by regressing the 1998 enrollment rates **of the poor** on treatment assignment. Discuss the following:\n",
    "\n",
    "* Based on this model, how much did Progresa increase the likelihood of a child enrolling?\n",
    "* How does your regression estimate compare to your t-test estimate from part 2.1?\n",
    "* Based on this regression model, can we reject the null hypothesis that the treatment effects are zero? \n",
    "* What is the counterfactual assumption underlying this regression?"
   ]
  },
  {
   "cell_type": "code",
   "execution_count": 160,
   "metadata": {
    "autoscroll": "json-false",
    "collapsed": false,
    "ein.tags": [
     "worksheet-0"
    ],
    "slideshow": {
     "slide_type": "-"
    }
   },
   "outputs": [
    {
     "name": "stdout",
     "output_type": "stream",
     "text": [
      "                  Results: Ordinary least squares\n",
      "===================================================================\n",
      "Model:              OLS              Adj. R-squared:     0.003     \n",
      "Dependent Variable: sc               AIC:                23855.3045\n",
      "Date:               2017-01-27 14:49 BIC:                23871.7448\n",
      "No. Observations:   27450            Log-Likelihood:     -11926.   \n",
      "Df Model:           1                F-statistic:        69.87     \n",
      "Df Residuals:       27448            Prob (F-statistic): 6.64e-17  \n",
      "R-squared:          0.003            Scale:              0.13961   \n",
      "-------------------------------------------------------------------\n",
      "                      Coef.  Std.Err.    t     P>|t|  [0.025 0.975]\n",
      "-------------------------------------------------------------------\n",
      "Intercept             0.8076   0.0037 220.6758 0.0000 0.8005 0.8148\n",
      "progresa[T.basal]     0.0388   0.0046   8.3587 0.0000 0.0297 0.0480\n",
      "-------------------------------------------------------------------\n",
      "Omnibus:             7638.939      Durbin-Watson:         1.734    \n",
      "Prob(Omnibus):       0.000         Jarque-Bera (JB):      15767.534\n",
      "Skew:                -1.767        Prob(JB):              0.000    \n",
      "Kurtosis:            4.140         Condition No.:         3        \n",
      "===================================================================\n",
      "\n"
     ]
    },
    {
     "name": "stderr",
     "output_type": "stream",
     "text": [
      "/Users/amolsurve/anaconda/lib/python3.5/site-packages/ipykernel/__main__.py:7: UserWarning: Boolean Series key will be reindexed to match DataFrame index.\n"
     ]
    }
   ],
   "source": [
    "data= pd.read_csv('progresa_sample.csv')\n",
    "prog=data\n",
    "# slicing data for regression\n",
    "dt= prog[(prog['poor'] == 'pobre') & (prog['year'] == 98)][['sc','progresa']]\n",
    "\n",
    "# Removing NaNs from the dataset\n",
    "dt = dt[~np.isnan(data['sc'])]\n",
    "\n",
    "# Running linear regression for sc v/s progresa\n",
    "model1 = smf.ols(formula = 'sc ~ progresa', data = dt).fit()\n",
    "\n",
    "# Printing results\n",
    "print(model1.summary2())"
   ]
  },
  {
   "cell_type": "markdown",
   "metadata": {},
   "source": [
    "Based on this model, how much did Progresa increase the likelihood of a child enrolling?\n",
    "* Progresa increased the enrollment rate by 0.0388, thus individuals who received the treatment, were 0.0388 more likely to get enrolled in school where the baseline of enrollment rate was 0.8076 (i.e. enrollment rate when no treatment was given)\n",
    "\n",
    "How does your regression estimate compare to your t-test estimate from part 2.1?\n",
    "* We can see that the t-test in our regression model is equal to the t-test that we obtained from the single difference which is 0.0388\n",
    "\n",
    "Based on this regression model, can we reject the null hypothesis that the treatment effects are zero?\n",
    "* The p-value is < 0.05, hence we can reject the null hypithesis and progressa outcomes have significant effect on poor children's enrollment.\n",
    "\n",
    "What is the counterfactual assumption underlying this regression?\n",
    "* \"In the absense of treatment, the control group will truly represent the treatment group under no treatment\""
   ]
  },
  {
   "cell_type": "markdown",
   "metadata": {
    "ein.tags": [
     "worksheet-0"
    ],
    "slideshow": {
     "slide_type": "-"
    }
   },
   "source": [
    "### 2.3 Multiple Regression\n",
    "\n",
    "Re-run the above regression estimated but this time include a set of control variables. Include, for instance, age, distance to a secondary school, gender, education of household head, indigenous, etc.\n",
    "\n",
    "* How do the controls affect the point estimate of treatment effect?\n",
    "* How do the controls affect the standard error on the treatment effect? \n",
    "* How do you interpret the differences (or similarities) between your estimates of 2.2 and 2.3?"
   ]
  },
  {
   "cell_type": "code",
   "execution_count": 161,
   "metadata": {
    "autoscroll": "json-false",
    "collapsed": false,
    "ein.tags": [
     "worksheet-0"
    ],
    "slideshow": {
     "slide_type": "-"
    }
   },
   "outputs": [
    {
     "name": "stdout",
     "output_type": "stream",
     "text": [
      "                  Results: Ordinary least squares\n",
      "===================================================================\n",
      "Model:              OLS              Adj. R-squared:     0.267     \n",
      "Dependent Variable: sc               AIC:                15294.7239\n",
      "Date:               2017-01-27 14:49 BIC:                15360.4314\n",
      "No. Observations:   27267            Log-Likelihood:     -7639.4   \n",
      "Df Model:           7                F-statistic:        1419.     \n",
      "Df Residuals:       27259            Prob (F-statistic): 0.00      \n",
      "R-squared:          0.267            Scale:              0.10257   \n",
      "-------------------------------------------------------------------\n",
      "                    Coef.  Std.Err.    t     P>|t|   [0.025  0.975]\n",
      "-------------------------------------------------------------------\n",
      "Intercept           1.5025   0.0143 105.3423 0.0000  1.4746  1.5305\n",
      "progresa[T.basal]   0.0352   0.0040   8.7990 0.0000  0.0274  0.0430\n",
      "age                -0.0655   0.0007 -95.1046 0.0000 -0.0669 -0.0642\n",
      "hohedu              0.0085   0.0008  10.9511 0.0000  0.0070  0.0101\n",
      "dist_sec           -0.0117   0.0009 -13.3608 0.0000 -0.0134 -0.0100\n",
      "sex                 0.0310   0.0039   7.9772 0.0000  0.0234  0.0386\n",
      "indig               0.0468   0.0042  11.2830 0.0000  0.0387  0.0550\n",
      "welfare_index       0.0000   0.0000   1.8721 0.0612 -0.0000  0.0001\n",
      "-------------------------------------------------------------------\n",
      "Omnibus:              2993.090      Durbin-Watson:         1.718   \n",
      "Prob(Omnibus):        0.000         Jarque-Bera (JB):      4083.947\n",
      "Skew:                 -0.940        Prob(JB):              0.000   \n",
      "Kurtosis:             3.248         Condition No.:         4901    \n",
      "===================================================================\n",
      "* The condition number is large (5e+03). This might indicate\n",
      "strong multicollinearity or other numerical problems.\n"
     ]
    }
   ],
   "source": [
    "#input data\n",
    "data= pd.read_csv('progresa_sample.csv')\n",
    "prog=data\n",
    "#Fitting the model\n",
    "dt= prog[(prog['poor'] == 'pobre') & (prog['year'] == 98)][['sc','progresa','age','dist_sec','hohedu','sex','welfare_index','indig']]\n",
    "\n",
    "dt = dt.dropna()\n",
    "\n",
    "model2 = smf.ols('sc ~ progresa + age + hohedu + dist_sec + sex + indig + welfare_index', data = dt).fit()\n",
    "print(model2.summary2())"
   ]
  },
  {
   "cell_type": "markdown",
   "metadata": {},
   "source": [
    "1.How do the controls affect the point estimate of treatment effect?\n",
    "\n",
    "Increase in results of the treatments is of 0.0352 compared to the previous rusults of increase which was 0.0388 indicating that some other factors might be responsible for increase in the school enrollment rates.\n",
    "\n",
    "2.How do the controls affect the standard error on the treatment effect? \n",
    "\n",
    "Standard error in simple regression was 0.0046\n",
    "Standard error in multiple regression now is 0.0040 showing more accuracy in multiple regression outcomes compared to the linear one.\n",
    "\n",
    "3.How do you interpret the differences (or similarities) between your estimates of 2.2 and 2.3?\n",
    "\n",
    "1. Standard error is reduced and the effect of treatement is increased in multiple regression model. \n",
    "2. Enrollment in multiple regression at baseline condition is higher compared to linear model.\n",
    "3. Intercept in multiple regression model has increased due to increase in the variables.\n"
   ]
  },
  {
   "cell_type": "markdown",
   "metadata": {
    "ein.tags": [
     "worksheet-0"
    ],
    "slideshow": {
     "slide_type": "-"
    }
   },
   "source": [
    "### 2.4 Difference-in-Difference, version 1 (tabular)\n",
    "\n",
    "Thus far, we have computed the effects of Progresa by estimating the difference in 1998 enrollment rates across villages. An alternative approach would be to compute the treatment effect using a difference-in-differences framework.\n",
    "\n",
    "Begin by estimating the average treatment effects of the program for poor households using data from 1997 and 1998. Specifically, calculate the difference (between 1997 and 1998) in enrollment rates among poor households in treated villages; then compute the difference (between 1997 and 1998) in enrollment rates among poor households in treated villages. The difference between these two differences is your estimate.\n",
    "\n",
    "* What is your estimate of the impact, and how does it compare to your earlier (simple difference) results?\n",
    "* What is the counterfactual assumption underlying this estimate? \n"
   ]
  },
  {
   "cell_type": "code",
   "execution_count": 162,
   "metadata": {
    "autoscroll": "json-false",
    "collapsed": false,
    "ein.tags": [
     "worksheet-0"
    ],
    "slideshow": {
     "slide_type": "-"
    }
   },
   "outputs": [
    {
     "name": "stdout",
     "output_type": "stream",
     "text": [
      "The double difference of average enrolment is :  0.031331280319323085\n",
      "The double difference table :  enrollment rates\n"
     ]
    },
    {
     "data": {
      "text/html": [
       "<div>\n",
       "<table border=\"1\" class=\"dataframe\">\n",
       "  <thead>\n",
       "    <tr style=\"text-align: right;\">\n",
       "      <th></th>\n",
       "      <th>pre</th>\n",
       "      <th>post</th>\n",
       "      <th>difference</th>\n",
       "    </tr>\n",
       "  </thead>\n",
       "  <tbody>\n",
       "    <tr>\n",
       "      <th>treat</th>\n",
       "      <td>0.8227</td>\n",
       "      <td>0.84648</td>\n",
       "      <td>0.02378</td>\n",
       "    </tr>\n",
       "    <tr>\n",
       "      <th>control</th>\n",
       "      <td>0.81519</td>\n",
       "      <td>0.80764</td>\n",
       "      <td>-0.00755</td>\n",
       "    </tr>\n",
       "  </tbody>\n",
       "</table>\n",
       "</div>"
      ],
      "text/plain": [
       "             pre     post difference\n",
       "treat     0.8227  0.84648    0.02378\n",
       "control  0.81519  0.80764   -0.00755"
      ]
     },
     "execution_count": 162,
     "metadata": {},
     "output_type": "execute_result"
    }
   ],
   "source": [
    "#input data\n",
    "data= pd.read_csv('progresa_sample.csv')\n",
    "prog=data\n",
    "#subsetting\n",
    "control97 = prog[(prog['poor'] == 'pobre') & (prog['year'] == 97) & \n",
    "                            (prog['progresa'] == '0')]['sc'].mean()\n",
    "\n",
    "control98 = prog[(prog['poor'] == 'pobre') & (prog['year'] == 98) & \n",
    "                            (prog['progresa'] == '0')]['sc'].mean()\n",
    "\n",
    "treat97 = prog[(prog['poor'] == 'pobre') & (prog['year'] == 97) & \n",
    "                            (prog['progresa'] == 'basal')]['sc'].mean()\n",
    "\n",
    "\n",
    "treat98 = prog[(prog['poor'] == 'pobre') & (prog['year'] == 98) & \n",
    "                            (prog['progresa'] == 'basal')]['sc'].mean()\n",
    "\n",
    "#finding differences\n",
    "differenceTreat = treat98 - treat97\n",
    "differenceControl = control98 - control97\n",
    "\n",
    "print(\"The double difference of average enrolment is : \", differenceTreat - differenceControl)\n",
    "\n",
    "dd = pd.DataFrame(columns=['pre', 'post', 'difference'], index=['treat', 'control'])\n",
    "dd['pre']['treat'] = round(treat97,5)\n",
    "dd['pre']['control'] = round(control97,5)\n",
    "dd['post']['treat'] = round(treat98,5)\n",
    "dd['post']['control'] = round(control98,5)\n",
    "dd['difference']['treat'] = round(differenceTreat,5)\n",
    "dd['difference']['control'] = round(differenceControl,5)\n",
    "\n",
    "print('The double difference table :',\n",
    "      ' enrollment rates')\n",
    "dd\n"
   ]
  },
  {
   "cell_type": "markdown",
   "metadata": {},
   "source": [
    "### Answer\n",
    "\n",
    "1. As you can see in the new estimate, there is around 0.031 increase in the enrollment rates of poor household. There is a decrease in the impact of the treatment on enrollment rate due to the consideration of time base effect as the earlier average difference was 0.0388. Hence, the the impact was lower than what was expected earlier as we consider the temporal effects.\n",
    "\n",
    "\n",
    "2. \"Assuming that the change in enrollment rates for treatment and control will follow a parallel trend over the course of time as that of the control group, the treatment group in absense of the treatment will act as a counterfactual to the treatment.\""
   ]
  },
  {
   "cell_type": "markdown",
   "metadata": {
    "ein.tags": [
     "worksheet-0"
    ],
    "slideshow": {
     "slide_type": "-"
    }
   },
   "source": [
    "### 2.5 Difference-in-Difference, version 1 (regression)\n",
    "\n",
    "Now use a regression specification to estimate the average treatment effect of the program (on the poor) in a difference-in-differences framework. Include at least 5 control variables.\n",
    "\n",
    "* What is your estimate of the impact of Progresa? Be very specific in interpreting your coefficients and standard errors, and make sure to specify exactly what units you are measuring and estimating.\n",
    "* How do these estimates of the treatment effect compare to the estimates based on the simple difference?\n",
    "* How do these estimates compare to the difference-in-difference estimates from 2.4 above? What accounts for these differences?\n",
    "* What is the counterfactual assumption underlying this regression? "
   ]
  },
  {
   "cell_type": "code",
   "execution_count": 163,
   "metadata": {
    "autoscroll": "json-false",
    "collapsed": false,
    "ein.tags": [
     "worksheet-0"
    ],
    "slideshow": {
     "slide_type": "-"
    }
   },
   "outputs": [
    {
     "name": "stdout",
     "output_type": "stream",
     "text": [
      "                    Results: Ordinary least squares\n",
      "========================================================================\n",
      "Model:                 OLS               Adj. R-squared:      0.278     \n",
      "Dependent Variable:    sc                AIC:                 33332.1890\n",
      "Date:                  2017-01-27 14:49  BIC:                 33421.8733\n",
      "No. Observations:      58013             Log-Likelihood:      -16656.   \n",
      "Df Model:              9                 F-statistic:         2488.     \n",
      "Df Residuals:          58003             Prob (F-statistic):  0.00      \n",
      "R-squared:             0.279             Scale:               0.10399   \n",
      "------------------------------------------------------------------------\n",
      "                        Coef.  Std.Err.     t     P>|t|   [0.025  0.975]\n",
      "------------------------------------------------------------------------\n",
      "Intercept              -1.2257   0.4254   -2.8815 0.0040 -2.0594 -0.3920\n",
      "progresa[T.basal]      -2.9893   0.5390   -5.5464 0.0000 -4.0456 -1.9329\n",
      "year                    0.0278   0.0044    6.3696 0.0000  0.0192  0.0364\n",
      "year:progresa[T.basal]  0.0309   0.0055    5.5816 0.0000  0.0200  0.0417\n",
      "age                    -0.0655   0.0005 -143.5516 0.0000 -0.0664 -0.0647\n",
      "hohedu                  0.0075   0.0005   13.8413 0.0000  0.0064  0.0085\n",
      "dist_sec               -0.0108   0.0006  -17.3779 0.0000 -0.0120 -0.0095\n",
      "sex                     0.0338   0.0027   12.6248 0.0000  0.0286  0.0391\n",
      "indig                   0.0499   0.0029   17.3627 0.0000  0.0442  0.0555\n",
      "welfare_index           0.0000   0.0000    2.9855 0.0028  0.0000  0.0001\n",
      "------------------------------------------------------------------------\n",
      "Omnibus:               5532.977        Durbin-Watson:           1.483   \n",
      "Prob(Omnibus):         0.000           Jarque-Bera (JB):        7289.118\n",
      "Skew:                  -0.866          Prob(JB):                0.000   \n",
      "Kurtosis:              3.116           Condition No.:           328913  \n",
      "========================================================================\n",
      "* The condition number is large (3e+05). This might indicate\n",
      "strong multicollinearity or other numerical problems.\n"
     ]
    }
   ],
   "source": [
    "# Subsetting the data to select only 'poor' people\n",
    "poor = prog[prog['poor'] == 'pobre']\n",
    "model3 = smf.ols(\n",
    "    formula = \"sc ~ progresa + year + year*progresa + age + hohedu + dist_sec + sex + indig + welfare_index\", \n",
    "    data = poor).fit()\n",
    "\n",
    "print(model3.summary2())"
   ]
  },
  {
   "cell_type": "markdown",
   "metadata": {},
   "source": [
    "### Answer\n",
    "\n",
    "* The effects of progresa on the basis of the difference in difference model:\n",
    "\n",
    "    We can define our model as :\n",
    "\n",
    "    y = x0 + x1*year + x2*progresa + x3*(year * progresa) + control\n",
    "\n",
    "    x0 = pre control\n",
    "    \n",
    "    x0 + x1 = post control\n",
    "    \n",
    "    x0 + x2 = pre treat\n",
    "    \n",
    "    x0 + x1 + x2 + x3 = post treat\n",
    "\n",
    "    The difference of difference: \n",
    "\n",
    "    Diff = (x0 + x1 + x2 + x3 - x0 - x2) - (x0 + x1 - x0)\n",
    "    \n",
    "    Diff = (x1 + x3) - ( x1)\n",
    "    \n",
    "    Diff = x3\n",
    "\n",
    "    The impact of progresa on the enrollment rate has been an increase of 0.0309 which is the co-efficient of (year * progresa) with a standard error of 0.0055.\n",
    "\n",
    "\n",
    "* The difference in difference estimate of the increase in enrollment rate due to progresa is 0.0309 which is reduced due to the fact that when the time effects are taken into account, the impact of progresa on the enrollment rate reduces.\n",
    "\n",
    "\n",
    "* The double difference estimate of progresa on enrollment is lesser in the regression compared to the one obtained in the tabular calculations. The reason might be the involvement of the control variables.\n",
    "\n",
    "* The counterfactual assumption in this model is that:\n",
    "\"Assuming that the change in enrollment rates for treatment and control over time will follow a parallel trend as that of the control group in absence of treatment, the treatment group will act as a counterfactual to the treatment.\""
   ]
  },
  {
   "cell_type": "markdown",
   "metadata": {
    "ein.tags": [
     "worksheet-0"
    ],
    "slideshow": {
     "slide_type": "-"
    }
   },
   "source": [
    "### 2.6 Difference-in-Difference, version 2\n",
    "\n",
    "In the previous problem, you estimated a difference-in-differences model that compared changes in enrollment rates over time across treatment and control villages. An alternative approach would be to compare enrollment rates in 1998 between poor and non-poor across treatment and control villages. \n",
    "\n",
    "* How would we estimate this version of the treatment effects in a regression model? \n",
    "* What is the counterfactual assumption underlying this regression?\n",
    "* How do these treatment effects compare to the estimates above?\n",
    "* Discuss some possible explanations for differences or similarities "
   ]
  },
  {
   "cell_type": "code",
   "execution_count": 164,
   "metadata": {
    "autoscroll": "json-false",
    "collapsed": false,
    "ein.tags": [
     "worksheet-0"
    ],
    "slideshow": {
     "slide_type": "-"
    }
   },
   "outputs": [
    {
     "name": "stdout",
     "output_type": "stream",
     "text": [
      "                         Results: Ordinary least squares\n",
      "=================================================================================\n",
      "Model:                    OLS                  Adj. R-squared:         0.268     \n",
      "Dependent Variable:       sc                   AIC:                    18602.6094\n",
      "Date:                     2017-01-27 14:49     BIC:                    18686.3073\n",
      "No. Observations:         31882                Log-Likelihood:         -9291.3   \n",
      "Df Model:                 9                    F-statistic:            1295.     \n",
      "Df Residuals:             31872                Prob (F-statistic):     0.00      \n",
      "R-squared:                0.268                Scale:                  0.10490   \n",
      "---------------------------------------------------------------------------------\n",
      "                                 Coef.  Std.Err.     t     P>|t|   [0.025  0.975]\n",
      "---------------------------------------------------------------------------------\n",
      "Intercept                        1.4994   0.0176   84.9790 0.0000  1.4648  1.5340\n",
      "progresa[T.basal]                0.0257   0.0098    2.6364 0.0084  0.0066  0.0448\n",
      "poor[T.pobre]                   -0.0050   0.0090   -0.5611 0.5747 -0.0226  0.0125\n",
      "poor[T.pobre]:progresa[T.basal]  0.0095   0.0106    0.9035 0.3663 -0.0112  0.0302\n",
      "age                             -0.0659   0.0006 -102.5872 0.0000 -0.0672 -0.0647\n",
      "hohedu                           0.0091   0.0007   13.0111 0.0000  0.0077  0.0104\n",
      "dist_sec                        -0.0119   0.0008  -14.2307 0.0000 -0.0135 -0.0102\n",
      "sex                              0.0310   0.0036    8.5368 0.0000  0.0239  0.0381\n",
      "indig                            0.0476   0.0040   11.8262 0.0000  0.0397  0.0555\n",
      "welfare_index                    0.0001   0.0000    3.1470 0.0017  0.0000  0.0001\n",
      "---------------------------------------------------------------------------------\n",
      "Omnibus:                  3242.094           Durbin-Watson:              1.722   \n",
      "Prob(Omnibus):            0.000              Jarque-Bera (JB):           4344.671\n",
      "Skew:                     -0.902             Prob(JB):                   0.000   \n",
      "Kurtosis:                 3.128              Condition No.:              7826    \n",
      "=================================================================================\n",
      "* The condition number is large (8e+03). This might indicate             strong\n",
      "multicollinearity or other numerical problems.\n"
     ]
    }
   ],
   "source": [
    "# Subsetting the data to select only 'poor' people\n",
    "data1 = prog[(prog['year'] == 98)]\n",
    "# Fitting the regression model\n",
    "model4 = smf.ols(\n",
    "    formula = \"sc~progresa + poor + poor*progresa + age + hohedu + dist_sec + sex + indig + welfare_index\", \n",
    "    data = data1).fit()\n",
    "print(model4.summary2())"
   ]
  },
  {
   "cell_type": "markdown",
   "metadata": {},
   "source": [
    "### Answer\n",
    "\n",
    "* The effects of progresa on the basis of the difference in difference model:\n",
    "\n",
    "    We can define our model as :\n",
    "\n",
    "    y = x0 + x1*year + x2*progresa + x3*(year * progresa) + control\n",
    "\n",
    "    x0 = pre control\n",
    "    \n",
    "    x0 + x1 = post control\n",
    "    \n",
    "    x0 + x2 = pre treat\n",
    "    \n",
    "    x0 + x1 + x2 + x3 = post treat\n",
    "\n",
    "    The difference of difference: \n",
    "\n",
    "    Diff = (x0 + x1 + x2 + x3 - x0 - x2) - (x0 + x1 - x0)\n",
    "    \n",
    "    Diff = (x1 + x3) - ( x1)\n",
    "    \n",
    "    Diff = x3\n",
    "\n",
    "    Hence we can say that in our model, the impact of progresa on the enrollment rate has been an increase of 0.0095 which is the co-efficient of term (poor * progresa) and with a standard error of 0.0106.\n",
    "    \n",
    "    Thus, in the year 1998, the people who were poor and had progresa had an increase in the enrollment rate by 0.0095.\n",
    "    \n",
    "\n",
    "* The counterfactual in this scenario is:\n",
    "    \"Assuming that the poor people will follow as similar trend as that of the non poor people in the absence of treatment, the poor people without the treatment will act as a true counterfactual for the treatment group.\"\n",
    "    \n",
    "\n",
    "* We can see that here that the impact of progresa on the enrollment rates of poor people increases by 0.0095 as compared to earlier estimate of 0.0309. The intercept is also different.\n",
    "\n",
    "* Here we assume that our counterfactual are the poor people without treatment effect and that is why our evaluation of impact is based on how the poor behave with respect to the non poor not receiving the treatment."
   ]
  },
  {
   "cell_type": "markdown",
   "metadata": {
    "ein.tags": [
     "worksheet-0"
    ],
    "slideshow": {
     "slide_type": "-"
    }
   },
   "source": [
    "### 2.7 Spillover effects (extra credit)\n",
    "\n",
    "Thus far, we have focused on the impact of PROGRESA on poor households. Repeat your analysis in 2.5, using a double-difference regression to estimate the impact of PROGRESA on non-poor households. In other words, compare the difference in enrollments between 1997 and 1998 for non-poor households in treatment villages with the difference in enrollments between 1997 and 1998 for non-poor households in control villages.\n",
    "\n",
    "* A: Describe one or two reasons why PROGRESA might have impacted non-poor households.\n",
    "* B: Do you observe any impacts of PROGRESA on the non-poor?\n",
    "* C: What is the identifying assumption that you are using to estimate the impact of PROGRESA on non-poor households."
   ]
  },
  {
   "cell_type": "code",
   "execution_count": 165,
   "metadata": {
    "autoscroll": "json-false",
    "collapsed": false,
    "ein.tags": [
     "worksheet-0"
    ],
    "slideshow": {
     "slide_type": "-"
    }
   },
   "outputs": [
    {
     "name": "stdout",
     "output_type": "stream",
     "text": [
      "                 Results: Ordinary least squares\n",
      "==================================================================\n",
      "Model:              OLS              Adj. R-squared:     0.281    \n",
      "Dependent Variable: sc               AIC:                7396.7188\n",
      "Date:               2017-01-27 14:49 BIC:                7454.6644\n",
      "No. Observations:   10334            Log-Likelihood:     -3690.4  \n",
      "Df Model:           7                F-statistic:        577.3    \n",
      "Df Residuals:       10326            Prob (F-statistic): 0.00     \n",
      "R-squared:          0.281            Scale:              0.11969  \n",
      "------------------------------------------------------------------\n",
      "                   Coef.  Std.Err.    t     P>|t|   [0.025  0.975]\n",
      "------------------------------------------------------------------\n",
      "Intercept          1.4609   0.0293  49.8328 0.0000  1.4034  1.5183\n",
      "progresa[T.basal]  0.0267   0.0070   3.8311 0.0001  0.0130  0.0404\n",
      "age               -0.0677   0.0011 -59.5577 0.0000 -0.0700 -0.0655\n",
      "hohedu             0.0094   0.0011   8.6815 0.0000  0.0073  0.0116\n",
      "dist_sec          -0.0160   0.0018  -8.9889 0.0000 -0.0194 -0.0125\n",
      "sex                0.0292   0.0068   4.2927 0.0000  0.0159  0.0426\n",
      "indig              0.0390   0.0102   3.8317 0.0001  0.0190  0.0589\n",
      "welfare_index      0.0001   0.0000   3.7002 0.0002  0.0000  0.0002\n",
      "------------------------------------------------------------------\n",
      "Omnibus:             863.456       Durbin-Watson:          1.494  \n",
      "Prob(Omnibus):       0.000         Jarque-Bera (JB):       839.058\n",
      "Skew:                -0.640        Prob(JB):               0.000  \n",
      "Kurtosis:            2.443         Condition No.:          7615   \n",
      "==================================================================\n",
      "* The condition number is large (8e+03). This might indicate\n",
      "strong multicollinearity or other numerical problems.\n"
     ]
    }
   ],
   "source": [
    "#sunsetting dataframe for non poor people\n",
    "dataL= prog[prog['poor'] != 'pobre']\n",
    "\n",
    "#fitting the model\n",
    "model5 = smf.ols(formula = \"sc ~ progresa + age + hohedu + dist_sec + sex + indig + welfare_index\", data = dataL).fit()\n",
    "#printing summary\n",
    "print(model5.summary2())"
   ]
  },
  {
   "cell_type": "markdown",
   "metadata": {},
   "source": [
    "## Explanation:\n",
    "\n",
    "The impact of progresa on the enrollment rates of the children in the treatment villages is analyzed here showing some spillover effect that resulted into higher level of enrollment amongst non-poor people from the treatment village v/s non treatment villages,based on single difference regression analysis. The possible reason can be the psychological effect called peer-pressure. To elaborate on that, children from non-poor family must be in the same schools as that of the students in poor family and seeing students from poor family going to the school more, might have caused students from non-poor family to do the same and hence, there is an increase. "
   ]
  },
  {
   "cell_type": "markdown",
   "metadata": {
    "ein.tags": [
     "worksheet-0"
    ],
    "slideshow": {
     "slide_type": "-"
    }
   },
   "source": [
    "### 2.8 Summary\n",
    "\n",
    "Based on all the analysis you have undertaken to date, do you thik that Progresa had a causal impact on the enrollment rates of poor households in Mexico?"
   ]
  },
  {
   "cell_type": "markdown",
   "metadata": {
    "autoscroll": "json-false",
    "collapsed": false,
    "ein.tags": [
     "worksheet-0"
    ],
    "slideshow": {
     "slide_type": "-"
    }
   },
   "source": [
    "We can assume that the impact of Progresa on the enrollment rate has been causal since, we have seen significant impact on the treatment villages compared to the control villages, considering all the fixed effects and baseline changes. We can causally imply that the treatment caused a significant increase in the enrollment rates, without considering the effects of the uncertain variable effects. "
   ]
  }
 ],
 "metadata": {
  "anaconda-cloud": {},
  "kernelspec": {
   "display_name": "Python 2",
   "language": "python",
   "name": "python2"
  },
  "language_info": {
   "codemirror_mode": {
    "name": "ipython",
    "version": 2
   },
   "file_extension": ".py",
   "mimetype": "text/x-python",
   "name": "python",
   "nbconvert_exporter": "python",
   "pygments_lexer": "ipython2",
   "version": "2.7.13"
  },
  "name": "INFX574-PS2.ipynb"
 },
 "nbformat": 4,
 "nbformat_minor": 2
}
