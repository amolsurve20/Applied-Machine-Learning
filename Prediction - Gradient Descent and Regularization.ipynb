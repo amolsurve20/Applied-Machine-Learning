{
 "cells": [
  {
   "cell_type": "markdown",
   "metadata": {},
   "source": [
    "# Problem Set 4, Amol Surve\n",
    "\n"
   ]
  },
  {
   "cell_type": "markdown",
   "metadata": {},
   "source": [
    "---\n",
    "\n",
    "## Introduction to the assignment\n",
    "\n",
    "As with the last assignment, you will be using the [Boston Housing Prices Data Set](http://archive.ics.uci.edu/ml/datasets/Housing)."
   ]
  },
  {
   "cell_type": "code",
   "execution_count": 156,
   "metadata": {
    "collapsed": false
   },
   "outputs": [],
   "source": [
    "import IPython\n",
    "import numpy as np\n",
    "import scipy as sp\n",
    "import pandas as pd\n",
    "import matplotlib\n",
    "import sklearn\n",
    "\n",
    "\n",
    "%matplotlib inline  \n",
    "import matplotlib.pyplot as plt  \n",
    "import statsmodels.api as sm\n",
    "from sklearn.linear_model import LinearRegression\n",
    "from sklearn.metrics import mean_squared_error\n",
    "import statsmodels.formula.api as smf\n",
    "from math import exp\n"
   ]
  },
  {
   "cell_type": "code",
   "execution_count": 157,
   "metadata": {
    "collapsed": true
   },
   "outputs": [],
   "source": [
    "from sklearn.datasets import load_boston\n",
    "bdata = load_boston()"
   ]
  },
  {
   "cell_type": "markdown",
   "metadata": {},
   "source": [
    "---\n",
    "\n",
    "## Part 1: Getting oriented\n",
    "\n",
    "Use different learning rates\n",
    "\n",
    "### 1.1 Use existing libraries\n",
    "\n",
    "Soon, you will write your own gradient descent algorithm, which you will then use to minimize the squared error cost function.  First, however, let's use the canned versions that come with Python, to make sure we understand what we're aiming to achieve.\n",
    "\n",
    "Using the same Boston housing prices dataset, use the [Linear Regression class](http://scikit-learn.org/stable/modules/generated/sklearn.linear_model.LinearRegression.html) from sklearn or the [OLS class](http://wiki.scipy.org/Cookbook/OLS) from SciPy to explore the relationship between  median housing price and number of rooms per house. Do this by first (a) regressing the housing price on the number of rooms per house, and then (b) regressing the housing price on the number of rooms per house and the (number of rooms per house) squared.  Interpret your results."
   ]
  },
  {
   "cell_type": "code",
   "execution_count": 158,
   "metadata": {
    "collapsed": false
   },
   "outputs": [
    {
     "name": "stdout",
     "output_type": "stream",
     "text": [
      "['data', 'feature_names', 'DESCR', 'target']\n",
      "['CRIM' 'ZN' 'INDUS' 'CHAS' 'NOX' 'RM' 'AGE' 'DIS' 'RAD' 'TAX' 'PTRATIO'\n",
      " 'B' 'LSTAT']\n",
      "(506, 13)\n",
      "(506,)\n",
      "Boston House Prices dataset\n",
      "===========================\n",
      "\n",
      "Notes\n",
      "------\n",
      "Data Set Characteristics:  \n",
      "\n",
      "    :Number of Instances: 506 \n",
      "\n",
      "    :Number of Attributes: 13 numeric/categorical predictive\n",
      "    \n",
      "    :Median Value (attribute 14) is usually the target\n",
      "\n",
      "    :Attribute Information (in order):\n",
      "        - CRIM     per capita crime rate by town\n",
      "        - ZN       proportion of residential land zoned for lots over 25,000 sq.ft.\n",
      "        - INDUS    proportion of non-retail business acres per town\n",
      "        - CHAS     Charles River dummy variable (= 1 if tract bounds river; 0 otherwise)\n",
      "        - NOX      nitric oxides concentration (parts per 10 million)\n",
      "        - RM       average number of rooms per dwelling\n",
      "        - AGE      proportion of owner-occupied units built prior to 1940\n",
      "        - DIS      weighted distances to five Boston employment centres\n",
      "        - RAD      index of accessibility to radial highways\n",
      "        - TAX      full-value property-tax rate per $10,000\n",
      "        - PTRATIO  pupil-teacher ratio by town\n",
      "        - B        1000(Bk - 0.63)^2 where Bk is the proportion of blacks by town\n",
      "        - LSTAT    % lower status of the population\n",
      "        - MEDV     Median value of owner-occupied homes in $1000's\n",
      "\n",
      "    :Missing Attribute Values: None\n",
      "\n",
      "    :Creator: Harrison, D. and Rubinfeld, D.L.\n",
      "\n",
      "This is a copy of UCI ML housing dataset.\n",
      "http://archive.ics.uci.edu/ml/datasets/Housing\n",
      "\n",
      "\n",
      "This dataset was taken from the StatLib library which is maintained at Carnegie Mellon University.\n",
      "\n",
      "The Boston house-price data of Harrison, D. and Rubinfeld, D.L. 'Hedonic\n",
      "prices and the demand for clean air', J. Environ. Economics & Management,\n",
      "vol.5, 81-102, 1978.   Used in Belsley, Kuh & Welsch, 'Regression diagnostics\n",
      "...', Wiley, 1980.   N.B. Various transformations are used in the table on\n",
      "pages 244-261 of the latter.\n",
      "\n",
      "The Boston house-price data has been used in many machine learning papers that address regression\n",
      "problems.   \n",
      "     \n",
      "**References**\n",
      "\n",
      "   - Belsley, Kuh & Welsch, 'Regression diagnostics: Identifying Influential Data and Sources of Collinearity', Wiley, 1980. 244-261.\n",
      "   - Quinlan,R. (1993). Combining Instance-Based and Model-Based Learning. In Proceedings on the Tenth International Conference of Machine Learning, 236-243, University of Massachusetts, Amherst. Morgan Kaufmann.\n",
      "   - many more! (see http://archive.ics.uci.edu/ml/datasets/Housing)\n",
      "\n"
     ]
    }
   ],
   "source": [
    "print bdata.keys()\n",
    "print bdata.feature_names\n",
    "print bdata.data.shape\n",
    "print bdata.target.shape\n",
    "print bdata.DESCR"
   ]
  },
  {
   "cell_type": "code",
   "execution_count": 159,
   "metadata": {
    "collapsed": false
   },
   "outputs": [
    {
     "name": "stdout",
     "output_type": "stream",
     "text": [
      "Printing data shape\n",
      "(506, 14)\n",
      "\n",
      "\n",
      "Model 1 summary\n",
      "[-34.67062078   9.10210898]\n",
      "\n",
      "\n",
      "Model 2 summary\n",
      "[ 66.05884748 -22.64326237   2.47012384]\n",
      "                            OLS Regression Results                            \n",
      "==============================================================================\n",
      "Dep. Variable:                      y   R-squared:                       0.484\n",
      "Model:                            OLS   Adj. R-squared:                  0.483\n",
      "Method:                 Least Squares   F-statistic:                     471.8\n",
      "Date:                Wed, 22 Feb 2017   Prob (F-statistic):           2.49e-74\n",
      "Time:                        13:13:31   Log-Likelihood:                -1673.1\n",
      "No. Observations:                 506   AIC:                             3350.\n",
      "Df Residuals:                     504   BIC:                             3359.\n",
      "Df Model:                           1                                         \n",
      "Covariance Type:            nonrobust                                         \n",
      "==============================================================================\n",
      "                 coef    std err          t      P>|t|      [95.0% Conf. Int.]\n",
      "------------------------------------------------------------------------------\n",
      "const        -34.6706      2.650    -13.084      0.000       -39.877   -29.465\n",
      "x1             9.1021      0.419     21.722      0.000         8.279     9.925\n",
      "==============================================================================\n",
      "Omnibus:                      102.585   Durbin-Watson:                   0.684\n",
      "Prob(Omnibus):                  0.000   Jarque-Bera (JB):              612.449\n",
      "Skew:                           0.726   Prob(JB):                    1.02e-133\n",
      "Kurtosis:                       8.190   Cond. No.                         58.4\n",
      "==============================================================================\n",
      "\n",
      "Warnings:\n",
      "[1] Standard Errors assume that the covariance matrix of the errors is correctly specified.\n",
      "                            OLS Regression Results                            \n",
      "==============================================================================\n",
      "Dep. Variable:                      y   R-squared:                       0.548\n",
      "Model:                            OLS   Adj. R-squared:                  0.547\n",
      "Method:                 Least Squares   F-statistic:                     305.4\n",
      "Date:                Wed, 22 Feb 2017   Prob (F-statistic):           1.46e-87\n",
      "Time:                        13:13:31   Log-Likelihood:                -1639.1\n",
      "No. Observations:                 506   AIC:                             3284.\n",
      "Df Residuals:                     503   BIC:                             3297.\n",
      "Df Model:                           2                                         \n",
      "Covariance Type:            nonrobust                                         \n",
      "==============================================================================\n",
      "                 coef    std err          t      P>|t|      [95.0% Conf. Int.]\n",
      "------------------------------------------------------------------------------\n",
      "const         66.0588     12.104      5.458      0.000        42.278    89.839\n",
      "x1           -22.6433      3.754     -6.031      0.000       -30.019   -15.267\n",
      "x2             2.4701      0.291      8.502      0.000         1.899     3.041\n",
      "==============================================================================\n",
      "Omnibus:                       82.173   Durbin-Watson:                   0.689\n",
      "Prob(Omnibus):                  0.000   Jarque-Bera (JB):              934.337\n",
      "Skew:                           0.224   Prob(JB):                    1.29e-203\n",
      "Kurtosis:                       9.642   Cond. No.                     1.91e+03\n",
      "==============================================================================\n",
      "\n",
      "Warnings:\n",
      "[1] Standard Errors assume that the covariance matrix of the errors is correctly specified.\n",
      "[2] The condition number is large, 1.91e+03. This might indicate that there are\n",
      "strong multicollinearity or other numerical problems.\n"
     ]
    }
   ],
   "source": [
    "data = np.column_stack((bdata.data,bdata.target))\n",
    "print \"Printing data shape\"\n",
    "print data.shape\n",
    "print \"\\n\"\n",
    "\n",
    "#(a) regressing the housing price on the number of rooms per hous\n",
    "y=data[:,13]\n",
    "x=data[:,5]\n",
    "#fitting the model\n",
    "model1 = smf.OLS(y, sm.add_constant(x)).fit()\n",
    "\n",
    "print \"Model 1 summary\"\n",
    "print model1.params\n",
    "\n",
    "print \"\\n\"\n",
    "\n",
    "#(b) regressing the housing price on the number of rooms per house and the (number of rooms per house) squared\n",
    "print \"Model 2 summary\"\n",
    "#Squaring and addign the column to fit the next model\n",
    "data = np.column_stack((data, bdata.data[:,5]**2))\n",
    "#fitting the model\n",
    "model2 = smf.OLS(y, sm.add_constant(data[:, [5,14]])).fit()\n",
    "print model2.params\n",
    "print model1.summary()\n",
    "print model2.summary()"
   ]
  },
  {
   "cell_type": "markdown",
   "metadata": {},
   "source": [
    "Intercept for model 1 is -34.67 and for the model 2 is 66.05; And we have two coefficients for b squared which results into the curved fit."
   ]
  },
  {
   "cell_type": "markdown",
   "metadata": {},
   "source": [
    "### 1.2 Training and testing\n",
    "\n",
    "Chances are, for the above problem you used all of your data to fit the regression line. In some circumstances this is a reasonable thing to do, but often this will result in overfitting. Let's redo the above results the ML way, using careful cross-validation.  Since you are now experts in cross-validation, and have written your own cross-validation algorithm from scratch, you can now take a shortcut and use the libraries that others have built for you.\n",
    "\n",
    "Using the [cross-validation functions](http://scikit-learn.org/stable/modules/cross_validation.html) from scikit-learn, use 250-fold cross-validation to fit regression (a) above, i.e. the linear fit of housing price on number of rooms per house. Each fold of cross-validation will give you one slope coefficient and one intercept coefficient.  Plot the distribution of the 250 slope coefficients using a histogram with 25 bins, then draw a vertical line at the value of the slope coefficient that you estimated in 1.1 using the full dataset.  What do you notice?"
   ]
  },
  {
   "cell_type": "code",
   "execution_count": 160,
   "metadata": {
    "collapsed": false
   },
   "outputs": [
    {
     "data": {
      "image/png": "[encoded data removed]",
      "text/plain": [
       "<matplotlib.figure.Figure at 0x1158a8550>"
      ]
     },
     "metadata": {},
     "output_type": "display_data"
    }
   ],
   "source": [
    "from sklearn.cross_validation import KFold\n",
    "regressionSlopes = []\n",
    "#performing k fold cross validation\n",
    "kfold = KFold(len(data), n_folds= 250)\n",
    "\n",
    "#splitting into train and test set\n",
    "for train, test in kfold:\n",
    "    train = data[train,:]\n",
    "    test = data[test, :]\n",
    "    model = smf.OLS(train[:,13], sm.add_constant(train[:,5])).fit().params[1]\n",
    "    regressionSlopes.append(model)\n",
    "\n",
    "\n",
    "plt.figure(figsize = (16,7))    \n",
    "plot = plt.hist(regressionSlopes, bins=20, color = 'purple', alpha = 0.7)\n",
    "plot1 = model1.params[1]\n",
    "plt.axvline(plot1, color = 'orange', linewidth = 3)\n",
    "plt.xlabel('Regression Slopes with 250 fold CV')\n",
    "plt.title('Slopes Histogram of 250 fold CV')\n",
    "plt.show()\n"
   ]
  },
  {
   "cell_type": "markdown",
   "metadata": {},
   "source": [
    "The 250 fold Cross Validation mean is approximately at the same place as that of the the mean of the slopes obtained using single slope using whole data. Thus, large amount of samples can be used to represent the true population characteristics"
   ]
  },
  {
   "cell_type": "markdown",
   "metadata": {},
   "source": [
    "### 1.3 Regression lines\n",
    "\n",
    "Create a scatterplot of housing price on rooms per house, and add the two regression lines from 1.1 (or 1.2 if you prefer to do so). Show the linear regression line in red, and the linear+quadratic regression line (which may have curvature) in blue.  Label these two regression lines with the corresponding regression equations (i.e. the slope and intercept of the line).\n",
    "\n",
    "Bonus: Add the 95% confidence bands (i.e.,  the area that has a 95% chance of containing the true regression line) to each of these lines."
   ]
  },
  {
   "cell_type": "markdown",
   "metadata": {},
   "source": [
    "\n"
   ]
  },
  {
   "cell_type": "code",
   "execution_count": 161,
   "metadata": {
    "collapsed": false
   },
   "outputs": [
    {
     "data": {
      "image/png": "[encoded data removed]",
      "text/plain": [
       "<matplotlib.figure.Figure at 0x11a9440d0>"
      ]
     },
     "metadata": {},
     "output_type": "display_data"
    }
   ],
   "source": [
    "x1 = np.array(range(0,10))\n",
    "#selecting the parameters to plot the regression on the same plot\n",
    "y1 = model1.params[0] + model1.params[1]*x1\n",
    "y2 = model2.params[0] + model2.params[1]*x1 + model2.params[2]*x1**2\n",
    "\n",
    "plt.figure(figsize = (15,5))\n",
    "scatterplot = plt.scatter(data[:,5], data[:,13], color = 'orange', alpha = 0.5)\n",
    "plt.xlim([-5,410])\n",
    "\n",
    "#plotting two models\n",
    "model1, = plt.plot(x1, y1, linewidth = 1.5)\n",
    "model2, = plt.plot(x1, y2, color = 'b', linewidth = 1.5)\n",
    "plt.legend([model1, model2], [\"Model 1: \\nalpha = 10.55103414 \\nbeta = 0.03359306\", \n",
    "                              \"Model 2: \\nalpha = 1.18933387e+01 \\nbeta1 = 9.55038330e-03 \\nbeta2 = 5.33671215e-05\"],\n",
    "           loc = 4\n",
    "          )\n",
    "plt.xlim(0,10)\n",
    "plt.show()"
   ]
  },
  {
   "cell_type": "markdown",
   "metadata": {},
   "source": [
    "## Part 2: Gradient descent: Linear Regression\n",
    "\n",
    "This is where it gets fun!\n",
    "\n",
    "### 2.1 Implement gradient descent with one independent variable (Average rooms per house)\n",
    "\n",
    "Implement the batch gradient descent algorithm that we discussed in class. Use the version you implement to regress the housing price on the number of rooms per house. Experiment with 3-4 different values of the learning rate *R*, and do the following:\n",
    "\n",
    "* Report the values of alpha and beta that minimize the loss function\n",
    "* Report the number of iterations it takes for your algorithm to converge (for each value of *R*)\n",
    "* Report the total running time of your algorithm, in seconds\n",
    "\n",
    "Some skeleton code is provided below, but you should feel free to delete this code and start from scratch if you prefer.\n",
    "\n",
    "* *Hint 1: Don't forget to implement a stopping condition, so that at every iteration you check whether your results have converged. Common approaches to this are to (a) check to see if the loss has stopped decreasing; and (b) check if both your current parameter esimates are close to the estimates from the previous iteration.  In both cases, \"close\" should not be ==0, it should be <=epsilon, where epsilon is something very small (like 0.0001).*\n",
    "* *Hint 2: Some people like to include a MaxIterations parameter in their gradient descent algorithm, to prevent divergence. *"
   ]
  },
  {
   "cell_type": "code",
   "execution_count": 162,
   "metadata": {
    "collapsed": false
   },
   "outputs": [
    {
     "name": "stdout",
     "output_type": "stream",
     "text": [
      "Regression co-efficients in the form (array([intercept, slope]),Number of Iterations)\n",
      "\n",
      "\n",
      "R = 1\n"
     ]
    },
    {
     "name": "stderr",
     "output_type": "stream",
     "text": [
      "/Users/amolsurve/anaconda/lib/python2.7/site-packages/ipykernel/__main__.py:33: RuntimeWarning: overflow encountered in square\n",
      "/Users/amolsurve/anaconda/lib/python2.7/site-packages/ipykernel/__main__.py:34: RuntimeWarning: invalid value encountered in double_scalars\n",
      "/Users/amolsurve/anaconda/lib/python2.7/site-packages/ipykernel/__main__.py:29: RuntimeWarning: overflow encountered in square\n",
      "/Users/amolsurve/anaconda/lib/python2.7/site-packages/ipykernel/__main__.py:27: RuntimeWarning: invalid value encountered in subtract\n"
     ]
    },
    {
     "name": "stdout",
     "output_type": "stream",
     "text": [
      "Time taken: 3.88 seconds\n",
      "(array([ nan,  nan]), 99999)\n",
      "\n",
      "\n",
      "R = 0.01\n",
      "Time taken: 1.52 seconds\n",
      "(array([-34.58846886,   9.08919428]), 50406)\n",
      "\n",
      "\n",
      "R = 0.001\n",
      "Time taken: 14.23 seconds\n",
      "(array([-34.41081105,   9.06126558]), 408337)\n"
     ]
    }
   ],
   "source": [
    "import time\n",
    "\n",
    "    \n",
    "\"\"\"\n",
    " Gradient descent search for linear regression.\n",
    " R is the learning rate.\n",
    " MaxIterations is the numer of updates - instead of a better definition of convergence.\n",
    " It returns intercept and coefficient for the regression\n",
    "\"\"\"\n",
    "\n",
    "def bivariate_ols(x, y, R = 0.01, MaxIterations = 1000):\n",
    "    start_time = time.time()\n",
    "    samples= x.shape[0] \n",
    "    # total number of samples\n",
    "    x0 = np.ones(len(x))[:,np.newaxis]\n",
    "    X = np.append(x0, x, axis = 1)\n",
    "    theta = np.zeros(X.shape[1])\n",
    "    xtranspose = X.transpose()\n",
    "\n",
    "    for i in range(0, MaxIterations):\n",
    "        #hypothesis calculaiton\n",
    "        hyp = np.dot(X, theta)\n",
    "        #computing the error\n",
    "        error = hyp - y    \n",
    "        #gradient calculations\n",
    "        gradient = np.dot(xtranspose, error) / samples         \n",
    "        theta = theta - R * gradient\n",
    "        #final computed cost \n",
    "        computed_cost = np.sum(error ** 2) / (2 * samples)  \n",
    "        hyptemp = np.dot(X, theta)\n",
    "        error_temp = hyptemp - y\n",
    "        #total cost over the number of samples\n",
    "        total_cost = np.sum(error_temp ** 2) / (2 * samples)\n",
    "        if np.abs(total_cost - computed_cost) <= 0.00000001:\n",
    "            print \"Time taken: \" + str(round(time.time() - start_time,2)) + \" seconds\"    \n",
    "            return theta, i\n",
    "\n",
    "\n",
    "    print \"Time taken: \" + str(round(time.time() - start_time,2)) + \" seconds\"    \n",
    "    return theta, i\n",
    "\n",
    "\n",
    "print 'Regression co-efficients in the form (array([intercept, slope]),Number of Iterations)'\n",
    "\n",
    "print '\\n'\n",
    "print 'R = 1'\n",
    "print bivariate_ols(bdata.data[:,[5]], bdata.target, 1, 100000)\n",
    "\n",
    "print '\\n'\n",
    "print 'R = 0.01'\n",
    "print bivariate_ols(bdata.data[:,[5]], bdata.target, 0.01, 100000)\n",
    "\n",
    "print '\\n'\n",
    "print 'R = 0.001'\n",
    "print bivariate_ols(bdata.data[:,[5]], bdata.target, 0.001, 10000000)\n",
    "\n"
   ]
  },
  {
   "cell_type": "markdown",
   "metadata": {},
   "source": [
    "* R = 1, the algortihm fails to converge. since, the learning rate is high so it might start diverging.\n",
    "\n",
    "* R = 0.01 & 0.001 algorithm converges. The leraning rate is lesser and convergence is occuring with more number of iterations.\n",
    "\n"
   ]
  },
  {
   "cell_type": "markdown",
   "metadata": {},
   "source": [
    "### 2.2 Data normalization (done for you!)\n",
    "\n",
    "Soon, you will implement a version of gradient descent that can use an arbitrary number of independent variables. Before doing this, we want to give you some code in case you want to standardize your features."
   ]
  },
  {
   "cell_type": "code",
   "execution_count": 163,
   "metadata": {
    "collapsed": false
   },
   "outputs": [],
   "source": [
    "def standardize(raw_data):\n",
    "    return ((raw_data - np.mean(raw_data, axis = 0)) / np.std(raw_data, axis = 0))"
   ]
  },
  {
   "cell_type": "markdown",
   "metadata": {},
   "source": [
    "### 2.3 Implement gradient descent with an arbitrary number of independent variables\n",
    "\n",
    "Now that you have a simple version of gradient descent working, create a version of gradient descent that can take more than one independent variable.  Assume all independent variables will be continuous.  Test your algorithm using CRIM and RM as independent variables. Standardize these variables before before inputting them to the gradient descent algorithm. \n",
    "\n",
    "As before,  report and interpret your estimated coefficients, the number of iterations before convergence, and the total running time of your algorithm. Experiment with 2-3 different values of R.\n",
    "\n",
    "* *Hint 1: Be careful to implement this efficiently, otherwise it might take a long time for your code to run. Commands like `np.dot` can be a good friend to you on this problem*"
   ]
  },
  {
   "cell_type": "code",
   "execution_count": 164,
   "metadata": {
    "collapsed": false
   },
   "outputs": [
    {
     "name": "stdout",
     "output_type": "stream",
     "text": [
      "Regression co-efficients in the form of (array([intercept, slope1, slope2]), Number of Iterations)\n",
      "\n",
      "R = 0.1\n",
      "Time taken: 0.01 seconds\n",
      "(array([ 22.53263729,  -2.24881167,   5.89421034]), 111)\n",
      "\n",
      "R = 0.01\n",
      "Time taken: 0.08 seconds\n",
      "(array([ 22.53205725,  -2.24918605,   5.89381215]), 1025)\n",
      "\n",
      "R = 0.001\n",
      "Time taken: 0.27 seconds\n",
      "(array([ 22.53016521,  -2.25010969,   5.89278593]), 9046)\n"
     ]
    }
   ],
   "source": [
    "\"\"\"\n",
    " Gradient descent search for linear regression.\n",
    " R is the learning rate.\n",
    " MaxIterations is the numer of updates - instead of a better definition of convergence.\n",
    " It returns intercept and coefficient for the regression\n",
    "\"\"\"\n",
    "def multivariate_ols(x, y, R = 0.01, MaxIterations = 1000):\n",
    "    start_time = time.time()\n",
    "    samples= x.shape[0] \n",
    "    # total number of samples\n",
    "    x0 = np.ones(len(x))[:,np.newaxis]\n",
    "    X = np.append(x0, x, axis = 1)\n",
    "    theta = np.zeros(X.shape[1])\n",
    "    xtranspose = X.transpose()\n",
    "    \n",
    "    for i in range(0, MaxIterations):\n",
    "        #hypothesis calculations\n",
    "        hyp = np.dot(X, theta)\n",
    "        #computing the error\n",
    "        error = hyp - y    \n",
    "        #gradient calculations\n",
    "        gradient = np.dot(xtranspose, error) / samples     \n",
    "        #finding the theta over learning rate\n",
    "        theta = theta - R * gradient\n",
    "        computed_cost = np.sum(error ** 2) / (2 * samples)  \n",
    "        hyptemp = np.dot(X, theta)\n",
    "        error_temp = hyptemp - y\n",
    "        #total computed cost over the number of samples\n",
    "        total_cost = np.sum(error_temp ** 2) / (2 * samples)\n",
    "        if np.abs(total_cost - computed_cost) <= 0.00000001:\n",
    "            print \"Time taken: \" + str(round(time.time() - start_time,2)) + \" seconds\"    \n",
    "            return theta, i\n",
    "\n",
    "\n",
    "    print \"Time taken: \" + str(round(time.time() - start_time,2)) + \" seconds\"    \n",
    "    return theta, i\n",
    "\n",
    "std_data = standardize(bdata.data)\n",
    "\n",
    "print 'Regression co-efficients in the form of (array([intercept, slope1, slope2]), Number of Iterations)'\n",
    "\n",
    "print '\\nR = 0.1'\n",
    "print multivariate_ols(std_data[:,[0,5]], bdata.target, 0.1, 100000)\n",
    "\n",
    "print '\\nR = 0.01'\n",
    "print multivariate_ols(std_data[:,[0,5]], bdata.target, 0.01, 100000)\n",
    "\n",
    "print '\\nR = 0.001'\n",
    "print multivariate_ols(std_data[:,[0,5]], bdata.target, 0.001, 100000)"
   ]
  },
  {
   "cell_type": "markdown",
   "metadata": {},
   "source": [
    "*Enter your observations here*"
   ]
  },
  {
   "cell_type": "markdown",
   "metadata": {},
   "source": [
    "### 2.4 Compare standardized vs. non-standardized results\n",
    "\n",
    "Repeat the analysis from 2.3, but this time do not standardize your variables - i.e., use the original data. Use the same three values of R (0.1, 0.01, and 0.001). What do you notice about the running time and convergence properties of your algorithm?"
   ]
  },
  {
   "cell_type": "code",
   "execution_count": 165,
   "metadata": {
    "collapsed": false
   },
   "outputs": [
    {
     "name": "stdout",
     "output_type": "stream",
     "text": [
      "R = 0.1\n"
     ]
    },
    {
     "name": "stderr",
     "output_type": "stream",
     "text": [
      "/Users/amolsurve/anaconda/lib/python2.7/site-packages/ipykernel/__main__.py:29: RuntimeWarning: overflow encountered in square\n",
      "/Users/amolsurve/anaconda/lib/python2.7/site-packages/ipykernel/__main__.py:25: RuntimeWarning: overflow encountered in square\n",
      "/Users/amolsurve/anaconda/lib/python2.7/site-packages/ipykernel/__main__.py:30: RuntimeWarning: invalid value encountered in double_scalars\n",
      "/Users/amolsurve/anaconda/lib/python2.7/site-packages/ipykernel/__main__.py:24: RuntimeWarning: invalid value encountered in subtract\n"
     ]
    },
    {
     "name": "stdout",
     "output_type": "stream",
     "text": [
      "Time taken: 2.76 seconds\n",
      "(array([ nan,  nan,  nan]), 99999)\n",
      "\n",
      "R = 0.01\n",
      "Time taken: 1.78 seconds\n",
      "(array([-29.21349413,  -0.26211746,   8.38382516]), 51996)\n",
      "\n",
      "R = 0.001\n",
      "Time taken: 3.12 seconds\n",
      "(array([-19.55430951,  -0.29438153,   6.88254095]), 99999)\n"
     ]
    }
   ],
   "source": [
    "print 'R = 0.1'\n",
    "print multivariate_ols(bdata.data[:,[0,5]], bdata.target, 0.1, 100000)\n",
    "\n",
    "print '\\nR = 0.01'\n",
    "print multivariate_ols(bdata.data[:,[0,5]], bdata.target, 0.01, 100000)\n",
    "\n",
    "print '\\nR = 0.001'\n",
    "print multivariate_ols(bdata.data[:,[0,5]], bdata.target, 0.001, 100000)\n"
   ]
  },
  {
   "cell_type": "markdown",
   "metadata": {},
   "source": [
    "*Enter your observations here*"
   ]
  },
  {
   "cell_type": "markdown",
   "metadata": {},
   "source": [
    "## 3. Prediction\n",
    "\n",
    "Let's use our fitted model to make predictions about housing prices. Since the focus is now on prediction rather than the interpretation of the coefficients, it would be wise for you to first standardize your features before proceeding.\n",
    "\n",
    "### 3.1 Cross-Validation\n",
    "\n",
    "Unless you were careful above, you probably overfit your data again. Let's fix that in one of two ways. If you're feeling confident, use k-fold cross-validation to re-fit the multivariate regression from 2.3 above, and report your estimated coefficients (there should be three, corresponding to the intercept and the two coefficients for CRIM and RM). Or if you want to do the quick and dirty version, randomly divide your data into a training set (66%) and testing set (34%) and use the training set to re-fit the regression from 2.3 above. "
   ]
  },
  {
   "cell_type": "code",
   "execution_count": 166,
   "metadata": {
    "collapsed": false
   },
   "outputs": [
    {
     "name": "stdout",
     "output_type": "stream",
     "text": [
      "Time taken: 0.13 seconds\n",
      "Time taken: 0.09 seconds\n",
      "Time taken: 0.06 seconds\n",
      "Time taken: 0.06 seconds\n",
      "Time taken: 0.04 seconds\n",
      "Time taken: 0.06 seconds\n",
      "Time taken: 0.04 seconds\n",
      "Time taken: 0.08 seconds\n",
      "Time taken: 0.18 seconds\n",
      "Time taken: 0.1 seconds\n",
      "\n",
      "Average value of Theta\n",
      "[[ 22.51422053  -2.24959584   5.88688709]]\n"
     ]
    }
   ],
   "source": [
    "np.random.seed(200)\n",
    "\n",
    "# standardizing features\n",
    "std_data = standardize(bdata.data)\n",
    "new_data = np.column_stack([std_data, bdata.target])\n",
    "corss_kfold = KFold(len(new_data), n_folds= 10)\n",
    "\n",
    "error = []\n",
    "temp = []\n",
    "\n",
    "#using k fold cross validation\n",
    "for tr, ts in corss_kfold:\n",
    "    #dividing into training and test data\n",
    "    train_data = new_data[tr,:]\n",
    "    test_data = new_data[ts,:]\n",
    "    test_data = np.column_stack((np.ones(len(test_data)), test_data))\n",
    "    #calculating the model output\n",
    "    theta, n = multivariate_ols(train_data[:,[0,5]], train_data[:,13], 0.01, 1000000)\n",
    "    theta = theta[:, np.newaxis]\n",
    "    temp.append(theta.T)\n",
    "    #predicting\n",
    "    predictions = np.sum(np.dot(test_data[:,[0,1,6]], theta), axis = 1)\n",
    "    #finding rmse\n",
    "    sq_error = np.sqrt(sum((predictions - test_data[:,14])**2)/float(len(test_data)))\n",
    "    error.append(sq_error )\n",
    "\n",
    "print '\\nAverage value of Theta'\n",
    "print np.mean(temp, axis = 0)"
   ]
  },
  {
   "cell_type": "markdown",
   "metadata": {},
   "source": [
    "### 3.2 Predicted values and RMSE\n",
    "\n",
    "Let's figure out how accurate this predictive model turned out to be. Compute the RMSE on your test cases, i.e. take the model parameters that you found above and compare the actual to the predicted values for just the test instances. If you did this the k-fold way above, this will be the average RMSE across the k test sets. If you did this the quick and dirty way above, this will just be the RMSE on your single test set.\n",
    "\n",
    "What is your test RMSE?  How does it compare to the performance of your nearest neighbor algorithm from the last problem set?"
   ]
  },
  {
   "cell_type": "code",
   "execution_count": 167,
   "metadata": {
    "collapsed": false
   },
   "outputs": [
    {
     "name": "stdout",
     "output_type": "stream",
     "text": [
      "5.77258706027\n"
     ]
    }
   ],
   "source": [
    "testError = np.mean(error)\n",
    "\n",
    "print testError"
   ]
  },
  {
   "cell_type": "markdown",
   "metadata": {},
   "source": [
    "Since, the data is linear and the linear regression model is more general and flexible compared to the Nearest Neighbors. The RMSE obtained is comparable to KNN."
   ]
  },
  {
   "cell_type": "markdown",
   "metadata": {},
   "source": [
    "### Extra Credit 1: Logistic Regression\n",
    "\n",
    "For extra credit, implement logistic regression using gradient descent. Create a new variable (EXPENSIVE) to indicate whether the median housing price is more than $400,000. Use your model  a logistic regression of EXPENSIVE on CHAS and RM. Report your results."
   ]
  },
  {
   "cell_type": "code",
   "execution_count": 168,
   "metadata": {
    "collapsed": false
   },
   "outputs": [
    {
     "name": "stdout",
     "output_type": "stream",
     "text": [
      "Time taken: 0.73 seconds\n",
      "[-1.73477406  0.01351761  0.98639393] 10965\n"
     ]
    }
   ],
   "source": [
    "\"\"\"\n",
    " Gradient descent search for logistic regression.\n",
    " R is the learning rate.\n",
    " MaxIterations is the numer of updates - instead of a better definition of convergence.\n",
    " It returns intercept and coefficient for the regression\n",
    "\"\"\"  \n",
    "def logistic_ols(x, y, R = 0.01, MaxIterations = 1000):\n",
    "    start_time = time.time()\n",
    "    samples= x.shape[0] \n",
    "    # total number of samples\n",
    "    x0 = np.ones(len(x))[:,np.newaxis]\n",
    "    X = np.append(x0, x, axis = 1)\n",
    "    theta = np.zeros(X.shape[1])\n",
    "    xtranspose = X.transpose()\n",
    "  \n",
    "    for i in range(0, MaxIterations):\n",
    "        #hypothesis calculations\n",
    "        hyp = np.dot(X, theta)\n",
    "        #computing errors\n",
    "        error = hyp - y    \n",
    "        #gradient calculations over the numbe rof samples\n",
    "        gradient = np.dot(xtranspose, error) / samples         \n",
    "        theta = theta - R * gradient\n",
    "        #computed cost over the error value and number of samples\n",
    "        computed_cost = np.sum(error ** 2) / (2 * samples)  \n",
    "        hyptemp = np.dot(X, theta)\n",
    "        error_temp = hyptemp - y\n",
    "        #finding total cost\n",
    "        total_cost = np.sum(error_temp ** 2) / (2 * samples)\n",
    "        if np.abs(total_cost - computed_cost) <= 0.00000001:\n",
    "            print \"Time taken: \" + str(round(time.time() - start_time,2)) + \" seconds\"    \n",
    "            return theta, i\n",
    "\n",
    "\n",
    "    print \"Time taken: \" + str(round(time.time() - start_time,2)) + \" seconds\"    \n",
    "    return theta, i\n",
    "\n",
    "\n",
    "#taking log for the logistic regression to observe the log odds of the outcome\n",
    "logData = bdata.data\n",
    "logData = np.column_stack((logData, bdata.target))\n",
    "result = []\n",
    "for i in range(len(logData)):\n",
    "    if logData[i,13] > 40:\n",
    "        result.append(1)\n",
    "    else:\n",
    "        result.append(0)\n",
    "logData = np.column_stack((logData, result))\n",
    "\n",
    "logTheta, t = logistic_ols(np.log(logData[:,[0,5]]),logData[:,14], 0.1, 10000000)\n",
    "print logTheta, t"
   ]
  },
  {
   "cell_type": "markdown",
   "metadata": {},
   "source": [
    "Since we have log odds of the particular outcome, we can see completely differently coefficients in case of the logistic regression compared to linear  model."
   ]
  },
  {
   "cell_type": "markdown",
   "metadata": {},
   "source": [
    "## 4 Regularization \n",
    "\n",
    "### 4.1 Get prepped\n",
    "\n",
    "Step 1: Create new interaction variables between each possible pair of the F_s features. If you originally had *K* features, you should now have *K+K^2/2* features. Standardize all of your features.\n",
    "\n",
    "Step 2: For simplicity, generate a single training and testing set.  Randomly sample 66% of your data and call this the training set, and set aside the remaining 34% as your test set."
   ]
  },
  {
   "cell_type": "code",
   "execution_count": 169,
   "metadata": {
    "collapsed": false
   },
   "outputs": [],
   "source": [
    "added_data = std_data\n",
    "\n",
    "for i in range(std_data.shape[1] ):\n",
    "    for j in range(i, std_data.shape[1]):\n",
    "        if i != j:\n",
    "            x = new_data[:,i] * new_data[:,j]\n",
    "            added_data = np.column_stack((added_data, x))\n",
    "\n",
    "added_data = standardize(added_data)\n",
    "added_data = np.column_stack((added_data, bdata.target))\n",
    "\n",
    "np.random.shuffle(added_data)\n",
    "\n",
    "\n",
    "training_data = added_data[:66*len(added_data)/100]\n",
    "test_data = added_data[66*len(added_data)/100:]\n",
    "\n",
    "test_data = np.column_stack((np.ones(len(test_data)), test_data))"
   ]
  },
  {
   "cell_type": "markdown",
   "metadata": {},
   "source": [
    "### 4.2 Let's overfit!\n",
    "Now, using your version of multivariate regression from 2.3, let's overfit the training data. Using your training set, regress housing price on as many of those *K+K/2* features as you can.  If you get too greedy, it's possible this will take a long time to compute, so start with 5-10 features, and if you have the time, add more features.\n",
    "\n",
    "Report the RMSE when you apply your model to your training set and to your testing set. How do these numbers compare to each other, and to the RMSE from 3.2 and nearest neighbors?"
   ]
  },
  {
   "cell_type": "code",
   "execution_count": 170,
   "metadata": {
    "collapsed": false
   },
   "outputs": [
    {
     "name": "stdout",
     "output_type": "stream",
     "text": [
      "Time taken: 27.26 seconds\n",
      "The co-efficient for the model with 25 variables\n",
      "[[ 22.69184961  21.51240929  19.81715748   5.28438866   1.19889921\n",
      "   -2.52998634   3.25359117  -0.66493264  -6.81969901  -2.42728919\n",
      "   -2.93149122   2.13579504   1.2101062   -3.67803143  26.39627509\n",
      "   11.00256745   0.85233863  -1.20365335  -1.28716461  -0.9381072\n",
      "   -9.99550412 -21.49744518  -3.68457365   7.239799    -0.71894202\n",
      "    0.22681944]] 557939\n",
      "\n",
      " RMSE on test\n",
      "4.19769210689\n",
      "\n",
      "RMSE on train\n",
      "4.35169093537\n"
     ]
    }
   ],
   "source": [
    "theta, n = multivariate_ols(training_data[:,0:25], training_data[:,91], 0.05, 1000000)\n",
    "theta = theta[:, np.newaxis]\n",
    "\n",
    "print 'The co-efficient for the model with 25 variables'\n",
    "print theta.T, n\n",
    "\n",
    "pred = np.sum(np.dot(test_data[:, 0:26], theta), axis = 1)\n",
    "r = np.sqrt(sum((pred - test_data[:,92])**2)/float(len(test_data)))\n",
    "\n",
    "print '\\n RMSE on test'\n",
    "print r\n",
    "\n",
    "training_new = np.column_stack((np.ones(len(training_data)), training_data))\n",
    "pred = np.sum(np.dot(training_new[:, 0:26], theta), axis = 1)\n",
    "r = np.sqrt(sum((pred - training_new[:,92])**2)/float(len(training_new )))\n",
    "\n",
    "print '\\nRMSE on train'\n",
    "print r"
   ]
  },
  {
   "cell_type": "markdown",
   "metadata": {},
   "source": [
    "RMSE obtained on test is 3.8 while on train is 4.03 which implies the effect of overfitting since even after computing with 25 variables, the model performs poorly on test data but improves on training data."
   ]
  },
  {
   "cell_type": "markdown",
   "metadata": {},
   "source": [
    "### 4.3 Ridge regularization\n",
    "Incorporate L2 (Ridge) regularization into your multivariate_ols regression. Write a new version of your gradient descent algorithm that includes a regularization term \"lambda\" to penalize excessive complexity. \n",
    "\n",
    "Use your regularized regression to re-fit the model from 3.2 above on your training data. Try this for several different values of lambda, and report your RMSE for each lambda separately for your training and testing data. How do these numbers compare to each other, to the RMSE from 4.2,  to the RMSE from 2.3, and to the RMSE from nearest neighbors?\n",
    "\n",
    "Go brag to your friends about how you just implemented ridge-regularized multivariate regression using gradient descent optimization, from scratch. If you still have friends."
   ]
  },
  {
   "cell_type": "code",
   "execution_count": 171,
   "metadata": {
    "collapsed": false
   },
   "outputs": [
    {
     "name": "stdout",
     "output_type": "stream",
     "text": [
      "Ridge regularization coefficients are \n",
      "Time taken: 2.82 seconds\n",
      "(22.499484408484435, array([-0.41906586, -0.1604191 , -0.31437319,  0.51499543, -1.18529596,\n",
      "        3.09814414, -0.9421666 , -2.77363555,  0.82733138, -1.78125489,\n",
      "       -0.33743578,  1.42210175, -3.24566553,  0.54852379, -0.01047982,\n",
      "        0.5887084 , -0.91858509,  1.12302647,  0.18680057, -0.82741274,\n",
      "       -0.82390924,  0.06274772, -0.40003249, -0.39905112,  1.74865406,\n",
      "       -0.08814204,  0.03891157,  0.51224369,  0.08386066, -0.21568586,\n",
      "        0.27538632,  0.03472606,  0.36990811, -0.40496871,  0.13384473,\n",
      "       -0.70119671,  0.40817654,  0.90776759,  0.09013212,  0.42864038,\n",
      "       -0.14307749, -0.62371142, -0.30077678, -0.7964583 ,  0.21675916,\n",
      "       -0.39140329, -1.02375567, -0.38521789,  0.32220386, -0.07221377,\n",
      "       -0.37595906,  0.46131603,  0.05973266,  0.47485068, -0.22537318,\n",
      "        0.27490364, -1.22888673,  0.31412868, -0.93937566,  0.24772635,\n",
      "       -0.15875054,  0.1653842 ,  0.74114931, -0.55091929,  0.40678029,\n",
      "       -0.97992187, -1.04104518, -0.87022511, -0.34772316, -2.16393305,\n",
      "       -0.739418  ,  1.5213729 , -0.12562705, -0.51900654, -0.95079911,\n",
      "       -0.98309633, -1.1588121 , -0.55192113,  0.36395932, -0.50809272,\n",
      "        1.24638707,  0.33703148, -0.1468203 ,  0.02447512, -1.75894033,\n",
      "        2.0718342 , -0.26652707, -1.27021484,  0.29176254,  0.17642948,\n",
      "       -0.99155658]))\n"
     ]
    }
   ],
   "source": [
    "def ridge_regularization(x_matrix, yvalues, R=0.01, MaxIterations=1000, lam = 0.001):\n",
    "    start_time = time.time()\n",
    "    N = float(len(yvalues))\n",
    "    X = x_matrix\n",
    "    Y = yvalues.T\n",
    "    \n",
    "    beta = np.repeat(0, X.shape[1]).T\n",
    "    alpha = 0\n",
    "    beta_x = np.dot(beta.T, X.T).T\n",
    "    error_sq = np.square((alpha + beta_x - Y))\n",
    "    cost = 1/(2*N) * sum(error_sq)\n",
    "    \n",
    "    while MaxIterations > 0:\n",
    "        beta_x_new = np.dot(beta.T, X.T).T\n",
    "        error_new = (alpha + beta_x_new - Y)\n",
    "        alpha_new = alpha - R/N * sum(error_new)\n",
    "        beta_new = beta*(1-R*lam/N) - R/N * np.dot(X.T, error_new).T\n",
    "        error_new2_sq = np.square(alpha_new + beta_x_new - Y)\n",
    "        J = 1/(2*N)*sum(error_new2_sq)\n",
    "        if np.abs(J - cost) <= 0.0000001:\n",
    "            beta = beta_new \n",
    "            alpha = alpha_new\n",
    "            print \"Time taken: \" + str(round(time.time() - start_time,2)) + \" seconds\"\n",
    "            return alpha, beta\n",
    "        else:\n",
    "            beta = beta_new \n",
    "            alpha = alpha_new\n",
    "            cost = J\n",
    "            MaxIterations = MaxIterations - 1\n",
    "        \n",
    "    print \"Time taken: \" + str(round(time.time() - start_time,2)) + \" seconds\"    \n",
    "    return alpha, beta\n",
    "\n",
    "print 'Ridge regularization coefficients are '\n",
    "\n",
    "print ridge_regularization(train_66[:,0:91], train_66[:,91], 0.01, 10000000, 6)"
   ]
  },
  {
   "cell_type": "markdown",
   "metadata": {},
   "source": [
    "RMSE obtained in previous model is 5.77 while here it's in the range of 3 which implies that the model is avoiding overfitting."
   ]
  },
  {
   "cell_type": "markdown",
   "metadata": {},
   "source": [
    "### Extra Credit 2: Cross-validate lambda\n",
    "\n",
    "Use k-fold cross-validation to select the optimal value of lambda. Report the average RMSE across all training sets, and the average RMSE across all testing sets. How do these numbers compare to each other, to the RMSE from your previous efforts?  Finally, create a scatter plot that shows RMSE as a function of lambda."
   ]
  },
  {
   "cell_type": "code",
   "execution_count": 172,
   "metadata": {
    "collapsed": false
   },
   "outputs": [
    {
     "name": "stdout",
     "output_type": "stream",
     "text": [
      "Time taken: 0.33 seconds\n",
      "Time taken: 0.34 seconds\n",
      "Time taken: 0.36 seconds\n",
      "Time taken: 0.38 seconds\n",
      "Time taken: 0.57 seconds\n",
      "Time taken: 0.52 seconds\n",
      "Time taken: 1.06 seconds\n",
      "Time taken: 1.42 seconds\n",
      "Time taken: 1.52 seconds\n",
      "Time taken: 1.83 seconds\n",
      "Time taken: 4.11 seconds\n",
      "Time taken: 4.81 seconds\n",
      "Time taken: 5.92 seconds\n",
      "Time taken: 5.52 seconds\n",
      "Time taken: 10.04 seconds\n",
      "Time taken: 25.68 seconds\n",
      "Time taken: 49.3 seconds\n",
      "Time taken: 55.36 seconds\n",
      "Time taken: 50.06 seconds\n",
      "Time taken: 52.24 seconds\n",
      "\n",
      "Mean RMSE is :\n",
      "3.44847192564\n"
     ]
    },
    {
     "data": {
      "image/png": "[encoded data removed]",
      "text/plain": [
       "<matplotlib.figure.Figure at 0x11a87a6d0>"
      ]
     },
     "metadata": {},
     "output_type": "display_data"
    },
    {
     "name": "stdout",
     "output_type": "stream",
     "text": [
      "\n",
      "Minimum RMSE value:\n",
      "3.26426710319\n"
     ]
    }
   ],
   "source": [
    "error = []\n",
    "#list of different values of lambda to check for the optimal value.\n",
    "values = [100,90,80,70,60,50,40,30,20,10,5,4,3,2,1, 0.1 ,0.01,0.001, 0.0001, 0.00001]\n",
    "\n",
    "for i in values:\n",
    "    #applying the ridge regularization function\n",
    "    alpha, beta = ridge_regularization(training_data[:,0:91], training_data[:,91], 0.01, 10000000, i)\n",
    "    #predictions on test dataset\n",
    "    predictions = alpha + np.sum(np.dot(test_data[:,1:92], beta[:,np.newaxis]), axis = 1)\n",
    "    result = np.sqrt(sum((predictions - test_data[:,92])**2)/float(len(test_data)))\n",
    "    error.append(result)\n",
    "\n",
    "print '\\nMean RMSE is :'\n",
    "print np.mean(error)\n",
    "#plotting the results\n",
    "plt.figure(figsize=(15,5))\n",
    "p = plt.scatter(values,error)\n",
    "plt.xlabel('Lambda values')\n",
    "plt.ylabel('RMSE values')\n",
    "plt.title('RMSE vs. Lambda')\n",
    "plt.axhline(np.min(error))\n",
    "plt.show()\n",
    "print '\\nMinimum RMSE value:'\n",
    "print np.min(error)"
   ]
  },
  {
   "cell_type": "markdown",
   "metadata": {},
   "source": [
    "WE obtain the minimum RMSE at around lambda between 5 to 7. IF we increase the lambda above or below that range, the model fits badly on the data and you can see the increase in the RMSE value."
   ]
  },
  {
   "cell_type": "markdown",
   "metadata": {},
   "source": [
    "### (Showoff) Extra Credit 3: Lambda and coefficients\n",
    "\n",
    "If you're feeling extra-special, create a parameter plot that shows how the different coefficient estimates change as a function of lambda. To make this graph intelligible, only include the *K* original F_s features in this plot"
   ]
  },
  {
   "cell_type": "code",
   "execution_count": 173,
   "metadata": {
    "collapsed": false
   },
   "outputs": [],
   "source": [
    "# Your code here"
   ]
  },
  {
   "cell_type": "markdown",
   "metadata": {},
   "source": [
    "*Discuss your results here*"
   ]
  }
 ],
 "metadata": {
  "kernelspec": {
   "display_name": "Python 2",
   "language": "python",
   "name": "python2"
  },
  "language_info": {
   "codemirror_mode": {
    "name": "ipython",
    "version": 2
   },
   "file_extension": ".py",
   "mimetype": "text/x-python",
   "name": "python",
   "nbconvert_exporter": "python",
   "pygments_lexer": "ipython2",
   "version": "2.7.13"
  }
 },
 "nbformat": 4,
 "nbformat_minor": 0
}
