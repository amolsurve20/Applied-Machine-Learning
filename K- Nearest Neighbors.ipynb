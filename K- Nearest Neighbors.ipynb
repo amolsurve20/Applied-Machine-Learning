{
 "cells": [
  {
   "cell_type": "markdown",
   "metadata": {},
   "source": [
    "# Problem Set 3, Amol Surve\n"
   ]
  },
  {
   "cell_type": "code",
   "execution_count": 123,
   "metadata": {
    "collapsed": false
   },
   "outputs": [],
   "source": [
    "import IPython\n",
    "import numpy as np\n",
    "import scipy as sp\n",
    "import pandas as pd\n",
    "import matplotlib\n",
    "import sklearn"
   ]
  },
  {
   "cell_type": "markdown",
   "metadata": {},
   "source": [
    "---\n",
    "\n",
    "## Introduction to the assignment\n",
    "\n",
    "For this assignment, you will be using the [Boston Housing Prices Data Set](http://archive.ics.uci.edu/ml/datasets/Housing).  Please read about the dataset carefully before continuing.  Use the following commands to load the dataset:\n"
   ]
  },
  {
   "cell_type": "code",
   "execution_count": 124,
   "metadata": {
    "collapsed": false
   },
   "outputs": [
    {
     "data": {
      "text/plain": [
       "sklearn.datasets.base.Bunch"
      ]
     },
     "execution_count": 124,
     "metadata": {},
     "output_type": "execute_result"
    }
   ],
   "source": [
    "from sklearn.datasets import load_boston\n",
    "bdata = load_boston()\n",
    "type(bdata)"
   ]
  },
  {
   "cell_type": "markdown",
   "metadata": {},
   "source": [
    "The following commands will provide some basic information about the shape of the data:"
   ]
  },
  {
   "cell_type": "code",
   "execution_count": 125,
   "metadata": {
    "collapsed": false
   },
   "outputs": [
    {
     "name": "stdout",
     "output_type": "stream",
     "text": [
      "['data', 'feature_names', 'DESCR', 'target']\n",
      "['CRIM' 'ZN' 'INDUS' 'CHAS' 'NOX' 'RM' 'AGE' 'DIS' 'RAD' 'TAX' 'PTRATIO'\n",
      " 'B' 'LSTAT']\n",
      "(506, 13)\n",
      "(506,)\n",
      "Boston House Prices dataset\n",
      "===========================\n",
      "\n",
      "Notes\n",
      "------\n",
      "Data Set Characteristics:  \n",
      "\n",
      "    :Number of Instances: 506 \n",
      "\n",
      "    :Number of Attributes: 13 numeric/categorical predictive\n",
      "    \n",
      "    :Median Value (attribute 14) is usually the target\n",
      "\n",
      "    :Attribute Information (in order):\n",
      "        - CRIM     per capita crime rate by town\n",
      "        - ZN       proportion of residential land zoned for lots over 25,000 sq.ft.\n",
      "        - INDUS    proportion of non-retail business acres per town\n",
      "        - CHAS     Charles River dummy variable (= 1 if tract bounds river; 0 otherwise)\n",
      "        - NOX      nitric oxides concentration (parts per 10 million)\n",
      "        - RM       average number of rooms per dwelling\n",
      "        - AGE      proportion of owner-occupied units built prior to 1940\n",
      "        - DIS      weighted distances to five Boston employment centres\n",
      "        - RAD      index of accessibility to radial highways\n",
      "        - TAX      full-value property-tax rate per $10,000\n",
      "        - PTRATIO  pupil-teacher ratio by town\n",
      "        - B        1000(Bk - 0.63)^2 where Bk is the proportion of blacks by town\n",
      "        - LSTAT    % lower status of the population\n",
      "        - MEDV     Median value of owner-occupied homes in $1000's\n",
      "\n",
      "    :Missing Attribute Values: None\n",
      "\n",
      "    :Creator: Harrison, D. and Rubinfeld, D.L.\n",
      "\n",
      "This is a copy of UCI ML housing dataset.\n",
      "http://archive.ics.uci.edu/ml/datasets/Housing\n",
      "\n",
      "\n",
      "This dataset was taken from the StatLib library which is maintained at Carnegie Mellon University.\n",
      "\n",
      "The Boston house-price data of Harrison, D. and Rubinfeld, D.L. 'Hedonic\n",
      "prices and the demand for clean air', J. Environ. Economics & Management,\n",
      "vol.5, 81-102, 1978.   Used in Belsley, Kuh & Welsch, 'Regression diagnostics\n",
      "...', Wiley, 1980.   N.B. Various transformations are used in the table on\n",
      "pages 244-261 of the latter.\n",
      "\n",
      "The Boston house-price data has been used in many machine learning papers that address regression\n",
      "problems.   \n",
      "     \n",
      "**References**\n",
      "\n",
      "   - Belsley, Kuh & Welsch, 'Regression diagnostics: Identifying Influential Data and Sources of Collinearity', Wiley, 1980. 244-261.\n",
      "   - Quinlan,R. (1993). Combining Instance-Based and Model-Based Learning. In Proceedings on the Tenth International Conference of Machine Learning, 236-243, University of Massachusetts, Amherst. Morgan Kaufmann.\n",
      "   - many more! (see http://archive.ics.uci.edu/ml/datasets/Housing)\n",
      "\n"
     ]
    }
   ],
   "source": [
    "print(bdata.keys());\n",
    "print(bdata.feature_names);\n",
    "print(bdata.data.shape);\n",
    "print(bdata.target.shape);\n",
    "#uncomment the following if you want to see a lengthy description of the dataset\n",
    "print(bdata.DESCR)"
   ]
  },
  {
   "cell_type": "markdown",
   "metadata": {},
   "source": [
    "---\n",
    "\n",
    "## Part 1: Descriptive analysis\n",
    "\n",
    "Before beginning the \"real\" work, dig into the data a bit do see what you're dealing with.  If you're new to analyzing data in Python, please make sure to read the relevant readings linked to on Canvas before beginning (for instance, [this one](https://github.com/jrjohansson/scientific-python-lectures)).\n",
    "\n",
    "###1.1: Histogram of housing prices\n",
    "\n",
    "Below you will find some very basic code to make a very basic histogram of median housing prices (the \"target\" variable) for your dataset.  Your first task is to make this graph look pretty by doing the following:\n",
    "\n",
    "1. Add appropriate labels to the x and y axes, make sure to include units\n",
    "2. Change the bin width on the histogram to be $1000\n",
    "3. Remove the axes on the top and right side of the plot window\n",
    "4. Change the color of the bars to be green, and remove the black borders from the bars\n"
   ]
  },
  {
   "cell_type": "code",
   "execution_count": 126,
   "metadata": {
    "collapsed": false
   },
   "outputs": [
    {
     "data": {
      "image/png": "[encoded data removed]",
      "text/plain": [
       "<matplotlib.figure.Figure at 0x11a703110>"
      ]
     },
     "metadata": {},
     "output_type": "display_data"
    }
   ],
   "source": [
    "# prepare IPython to work with matplotlib and import the library to something convenient\n",
    "%matplotlib inline  \n",
    "import matplotlib.pyplot as plt  \n",
    "\n",
    "# edit the code below to make the graph look good\n",
    "fig = plt.figure(figsize=(19,9))\n",
    "plt.hist(bdata.target,bins=45, color='g',edgecolor = \"none\")\n",
    "plt.ylabel('Per Capita Crime Rate')\n",
    "plt.xlabel('Median value of owner-occupied homes in $1000')\n",
    "ax = fig.add_subplot(111)\n",
    "ax.spines[\"right\"].set_visible(False)\n",
    "ax.spines[\"top\"].set_visible(False)\n",
    "ax.tick_params(axis='both', direction='out')\n",
    "ax.get_xaxis().tick_bottom()   \n",
    "# remove unneeded ticks \n",
    "ax.get_yaxis().tick_left()\n",
    "\n",
    "plt.show()"
   ]
  },
  {
   "cell_type": "markdown",
   "metadata": {},
   "source": [
    "### 1.2: Scatter plot of housing prices and crime\n",
    "\n",
    "Use matplotlib to create a scatter plot that shows the relationship between the median value of the home (y-axis) and the per-capita crime rate (x-axis).  Properly label your axes, and make sure that your graphic looks polished and professional.\n"
   ]
  },
  {
   "cell_type": "code",
   "execution_count": 127,
   "metadata": {
    "collapsed": false
   },
   "outputs": [
    {
     "data": {
      "text/plain": [
       "<matplotlib.text.Text at 0x11a739710>"
      ]
     },
     "execution_count": 127,
     "metadata": {},
     "output_type": "execute_result"
    },
    {
     "data": {
      "image/png": "[encoded data removed]",
      "text/plain": [
       "<matplotlib.figure.Figure at 0x11a703f50>"
      ]
     },
     "metadata": {},
     "output_type": "display_data"
    }
   ],
   "source": [
    "dataset = load_boston()\n",
    "df = pd.DataFrame(dataset.data, columns=dataset.feature_names)\n",
    "df['target'] = dataset.target\n",
    "fig = plt.figure(figsize=(15,8))\n",
    "#Creating scatterplot of Per Capita Crime Rate vs Median Value of owner-occupied homes in $1000\n",
    "plt.scatter(df['target'], df['CRIM'],alpha=0.5)\n",
    "plt.ylabel('Median value of owner-occupied homes in $1000')\n",
    "plt.xlabel('Per Capita Crime Rate')"
   ]
  },
  {
   "cell_type": "markdown",
   "metadata": {},
   "source": [
    "### 1.3 Create your own (creative and effective) visualization\n",
    "\n",
    "Use another type of graph or chart to illustrate an interesting pattern in the data.  Be creative in your visualization, and make sure to produce a \"publication-quality\" graph.  Points will be given for useful and creative graphs; points will be deducted for confusing issues like unlabeled axes.  If you're new to data visualization, [this guide](http://pubs.aeaweb.org/doi/pdfplus/10.1257/jep.28.1.209) is a good place to start."
   ]
  },
  {
   "cell_type": "code",
   "execution_count": 128,
   "metadata": {
    "collapsed": false
   },
   "outputs": [
    {
     "data": {
      "text/plain": [
       "<matplotlib.text.Text at 0x11c6481d0>"
      ]
     },
     "execution_count": 128,
     "metadata": {},
     "output_type": "execute_result"
    },
    {
     "data": {
      "image/png": "[encoded data removed]",
      "text/plain": [
       "<matplotlib.figure.Figure at 0x11b7c8710>"
      ]
     },
     "metadata": {},
     "output_type": "display_data"
    }
   ],
   "source": [
    "#Creating scatterplot of percentage of lower  vs Median Value of owner-occupied homes in $1000\n",
    "fig = plt.figure(figsize=(15,8))\n",
    "plt.scatter(df['target'], df['LSTAT'])\n",
    "plt.xlabel('Median value of owner-occupied homes in $1000')\n",
    "plt.ylabel('% Lower status of the population')"
   ]
  },
  {
   "cell_type": "markdown",
   "metadata": {},
   "source": [
    "As you can see in the above scatterplot, with increase in the median value of the homes, there is decrease in the percentage of the lower status of the population."
   ]
  },
  {
   "cell_type": "markdown",
   "metadata": {},
   "source": [
    "---\n",
    "\n",
    "## Part 2: Experimental Setup\n",
    "\n",
    "The goal of the next few sections is to design an experiment to predict the median home value for an instance in the data.\n",
    "\n",
    "### 2.1 Begin by writing a function to compute the Root Mean Squared Error for a list of numbers\n",
    "\n",
    "You can find the sqrt function in the Numpy package. Furthermore the details of RMSE can be found on [Wikipedia](http://en.wikipedia.org/wiki/Root-mean-square_deviation)\n",
    "\n"
   ]
  },
  {
   "cell_type": "code",
   "execution_count": 129,
   "metadata": {
    "collapsed": false
   },
   "outputs": [],
   "source": [
    "\"\"\"\n",
    "Function\n",
    "--------\n",
    "compute_rmse\n",
    "\n",
    "Given two arrays, one of actual values and one of predicted values,\n",
    "compute the Roote Mean Squared Error\n",
    "\n",
    "Parameters\n",
    "----------\n",
    "predictions : array\n",
    "    Array of numerical values corresponding to predictions for each of the N observations\n",
    "\n",
    "yvalues : array\n",
    "    Array of numerical values corresponding to the actual values for each of the N observations\n",
    "\n",
    "Returns\n",
    "-------\n",
    "rmse : int\n",
    "    Root Mean Squared Error of the prediction\n",
    "\n",
    "Example\n",
    "-------\n",
    ">>> print compute_rmse((2,2,3),(0,2,6)\n",
    "2.08\n",
    "\"\"\"\n",
    "def compute_rmse(predictions, yvalues):\n",
    "    error_sq = (predictions - yvalues)**2\n",
    "    error_sq = error_sq.sum()\n",
    "    rmse = np.sqrt(error_sq/float(len(predictions)))\n",
    "    return rmse"
   ]
  },
  {
   "cell_type": "markdown",
   "metadata": {},
   "source": [
    "### 2.2 Divide your data into training and testing datasets\n",
    "\n",
    "Randomly select 66% of the data and put this in a training dataset (call this \"bdata_train\"), and place the remaining 34% in a testing dataset (call this \"bdata_test\")\n"
   ]
  },
  {
   "cell_type": "code",
   "execution_count": 130,
   "metadata": {
    "collapsed": false
   },
   "outputs": [
    {
     "name": "stderr",
     "output_type": "stream",
     "text": [
      "/Users/amolsurve/anaconda/lib/python2.7/site-packages/ipykernel/__main__.py:10: VisibleDeprecationWarning: using a non-integer number instead of an integer will result in an error in the future\n",
      "/Users/amolsurve/anaconda/lib/python2.7/site-packages/ipykernel/__main__.py:13: VisibleDeprecationWarning: using a non-integer number instead of an integer will result in an error in the future\n"
     ]
    }
   ],
   "source": [
    "data = np.column_stack((bdata.data,bdata.target))\n",
    "# split is the same \"random\" split used by the rest of the class\n",
    "np.random.seed(seed=13579)\n",
    "\n",
    "# Function to randomly split the data into test and train\n",
    "def split(data, target, per_train):\n",
    "    data = np.insert(data, data.shape[1],target, axis = 1)\n",
    "    np.random.shuffle(data)\n",
    "    \n",
    "    train = data[0:per_train*len(target),:]\n",
    "   \n",
    "    \n",
    "    test = data[per_train*len(target):len(target),:]\n",
    "   \n",
    "    return train, test, data\n",
    "\n",
    "# Create train, test and the dataset using the random_split function\n",
    "bdata_train, bdata_test, data = split(bdata.data, bdata.target, 0.66)"
   ]
  },
  {
   "cell_type": "markdown",
   "metadata": {},
   "source": [
    "### 2.3 Use a very bad baseline for prediction, and compute RMSE\n",
    "\n",
    "Create a model that predicts, for every observation x_i, that the median home value is the average (mean) of the median values for all instances in the training set.  Compute the RMSE on the training set.  Now compute the RMSE on the test data set (but use the model you trained on the training set!).  How does RMSE compare for training vs. testing datasets? Is this what you expected, and why?"
   ]
  },
  {
   "cell_type": "code",
   "execution_count": 131,
   "metadata": {
    "collapsed": false
   },
   "outputs": [
    {
     "name": "stdout",
     "output_type": "stream",
     "text": [
      "('Training RMSE using Train data mean: ', 8.5849678837755334)\n",
      "('Test RMSE using Train data mean: ', 10.281671624776735)\n"
     ]
    }
   ],
   "source": [
    "# enter your code here\n",
    "# Calulate the mean value of the train dataset target\n",
    "mean = np.mean(bdata_train[:,13])\n",
    "\n",
    "\n",
    "# Calulcating RMSE value of test and train data\n",
    "print('Training RMSE using Train data mean: ', compute_rmse(bdata_train[:,13], mean))\n",
    "print('Test RMSE using Train data mean: ', compute_rmse(bdata_test[:,13], mean))\n"
   ]
  },
  {
   "cell_type": "markdown",
   "metadata": {},
   "source": [
    "RMSE value for test dataset calculated with respect to the mean of the train data is higher than the RMSE obtained from the train data w.r.t mean of train data. we can expect the mean error to be higher when the predicted values are mean of a different dataset. We will expect the train dataset to have a lower error. If we would've used the test mean to predict test values and then calculate the RMSE, we would've gotten a lower RMSE as the mean would more closely represent the test data than the train mean does in our case. "
   ]
  },
  {
   "cell_type": "markdown",
   "metadata": {},
   "source": [
    "---\n",
    "\n",
    "## Part 3: Nearest Neighbors\n"
   ]
  },
  {
   "cell_type": "markdown",
   "metadata": {},
   "source": [
    "### 3.1 Nearest Neighbors: Distance function\n",
    "Let's try and build a machine learning algorithm to beat the \"Average Value\" baseline that you computed above.  Soon you will implement the Nearest Neighbor algorithm, but first you need to create a distance metric to measure the distance (and similarity) between two instances.  Write a generic function to compute the L-Norm distance (called the [*p*-norm](http://en.wikipedia.org/wiki/Norm_(mathematics) distance on Wikipedia). Verify that your function works by computing the Euclidean distance between the points (3,4) and (6,8)."
   ]
  },
  {
   "cell_type": "code",
   "execution_count": 146,
   "metadata": {
    "collapsed": false
   },
   "outputs": [
    {
     "name": "stdout",
     "output_type": "stream",
     "text": [
      "1\n"
     ]
    }
   ],
   "source": [
    "\"\"\"\n",
    "Function\n",
    "--------\n",
    "distance\n",
    "\n",
    "Given two instances and a value for L, return the L-Norm distance between them\n",
    "\n",
    "Parameters\n",
    "----------\n",
    "x1, x2 : array\n",
    "    Array of numerical values corresponding to predictions for each of the N observations\n",
    "\n",
    "L: int\n",
    "    Value of L to use in computing distances\n",
    "\n",
    "Returns\n",
    "-------\n",
    "dist : int\n",
    "    The L-norm distance between instances\n",
    "\n",
    "Example\n",
    "-------\n",
    ">>> print distance((3,4),(6,8),2)\n",
    "5\n",
    "\n",
    "\"\"\"\n",
    "def distance(x1, x2, L):\n",
    "    tempsum=0;\n",
    "    diffx=x2[0]-x1[0];\n",
    "    diffy=x2[1]-x1[1];\n",
    "    sqsum=diffx**L+diffy**L;          \n",
    "    \n",
    "    return np.power(sqsum,1/L);\n",
    "\n",
    "       \n",
    "print(distance((3,4),(6,8),2))"
   ]
  },
  {
   "cell_type": "code",
   "execution_count": 147,
   "metadata": {
    "collapsed": false
   },
   "outputs": [],
   "source": [
    "def distance(x1, x2, L):\n",
    "    \n",
    "    dist = x1-x2\n",
    "    sqsum = dist**L\n",
    "    final = sqsum.sum(axis = 1)\n",
    "   \n",
    "    return np.array(pow(final,1/float(L)))\n"
   ]
  },
  {
   "cell_type": "markdown",
   "metadata": {},
   "source": [
    "### 3.2 Basic Nearest Neighbor algorithm\n",
    "\n",
    "Now things get fun.  Your task is to implement a basic nearest neighbor algorithm from scratch.  Your simple model will use two input features (CRIM and RM) and a single output (MEDV).  In other words, you are modelling the relationship between median home value and crime rates and house size.\n",
    "\n",
    "Use your training data (bdata_train) to \"fit\" your model, although as you know, with Nearest Neighbors there is no real training, you just need to keep your training data in memory.  Write a function that predicts, for each instance in the testing data (bdata_test), the median home value using the nearest neighbor algorithm we discussed in class.  Since this is a small dataset, you can simply compare your test instance to every instance in the training set, and return the MEDV value of the closest training instance.  Have your function take L as an input, where L is passed to the distance function.\n",
    "\n",
    "Compute the RMSE for the Nearest Neighbor predictions on the test set, using the Euclidean distance.  Report an estimate of the total time taken by your code to predict the nearest neighbors for all the values in the test data set."
   ]
  },
  {
   "cell_type": "code",
   "execution_count": 134,
   "metadata": {
    "collapsed": false
   },
   "outputs": [
    {
     "name": "stdout",
     "output_type": "stream",
     "text": [
      "Time Taken is : 0.012274980545\n",
      "7.45009989459\n"
     ]
    }
   ],
   "source": [
    "import time\n",
    "def neighbor(train, test, col_num, target, L, k=1):\n",
    "    start_time = time.time()\n",
    "    final = []\n",
    "    for i in range(len(test)):\n",
    "        #using the distance function to calculate the distance between test & train instances\n",
    "        dist = distance(train[:,col_num], test[i,col_num], L)        \n",
    "        dist = dist[:, np.newaxis]\n",
    "        dist2 = np.append(dist, train[:,target],1)\n",
    "        #sorting to get the minimum distances first\n",
    "        sortd = dist2[np.argsort(dist2[:,0]),:][0]  \n",
    "        final.append(sortd)\n",
    "    #apppending to the final result\n",
    "    final2 = np.array(final)\n",
    "    final2 = np.append(final2, test[:, target], axis = 1)\n",
    "    #computing the root mean square error\n",
    "    rmse = compute_rmse(final2[:,1], final2[:,2])\n",
    "    print('Total Time Taken is ' + str(time.time() - start_time))\n",
    "    return rmse\n",
    "\n",
    "print(neighbor(bdata_train, bdata_test,[0,5],[13],2))\n"
   ]
  },
  {
   "cell_type": "markdown",
   "metadata": {},
   "source": [
    "### 3.3 Results and Normalization\n",
    "\n",
    "If you were being astute, you would have noticed that we never normalized our features -- a big no-no with Nearest Neighbor algorithms.  Write a generic normalization function that takes as input an array of values for a given feature, and returns the normalized array (subtract the mean and divide by the standard deviation).\n",
    "\n",
    "Re-run the Nearest Neighbor algorithm on the normalized dataset (still just using CRIM and RM as input), and compare the RMSE from this method with your previous RMSE evaluations.\n",
    "\n",
    "*NOTE*: To normalize properly, best practice is to compute the mean and standard deviation on the training set, and use these values to normalize the testing dataset. However, for this problem set, it is okay if you separately normalize each dataset using the respective mean and standard deviation."
   ]
  },
  {
   "cell_type": "code",
   "execution_count": 135,
   "metadata": {
    "collapsed": false
   },
   "outputs": [
    {
     "name": "stdout",
     "output_type": "stream",
     "text": [
      "Time Taken is : 0.032940864563\n",
      "('RMSE using normalized input based on nearest neighborsn algorithm: ', 7.7343726462599331)\n"
     ]
    }
   ],
   "source": [
    "\"\"\"\n",
    "# write your function specification here!\n",
    "\"\"\"\n",
    "def normalize(raw_data, mn, stddev):\n",
    "    #your code here\n",
    "    normalized_data = (raw_data-mn)/float(stddev)\n",
    "    return normalized_data\n",
    "\n",
    "def normalize2(raw_data):\n",
    "    normalized_data = (raw_data-np.mean(raw_data))/float(np.std(raw_data))\n",
    "    return normalized_data\n",
    "test = np.vstack((normalize2(bdata_test[:,0]),normalize2(bdata_test[:,5]),(bdata_test[:,13]))).T\n",
    "train = np.vstack((normalize2(bdata_train[:,0]),normalize2(bdata_train[:,5]),(bdata_train[:,13]))).T\n",
    "z = neighbor(train, test, [0,1], [2], 2)\n",
    "print('RMSE on normalized input based on nearest neighbors algorithm: ', z)"
   ]
  },
  {
   "cell_type": "markdown",
   "metadata": {},
   "source": [
    "We can see that we obtain a much lower RMSE when we use Normalized inputs of the data. This is because the nearest neighbors algorithm works best when all the scales of the predictor variables are the same. This is because while calulcation the distance we can obtain a better final distance when we have same scaled variables."
   ]
  },
  {
   "cell_type": "markdown",
   "metadata": {},
   "source": [
    "### 3.4 Optimization\n",
    "\n",
    "A lot of the decisions we've made so far have been arbitrary.  Try to increase the performance of your nearest neighbor algorithm by adding features that you think might be relevant, and by using different values of L in the distance function.  Try a model that uses a different set of 2 features, then try at least one model that uses more than 4 features, then try using a different value of L.  If you're having fun, try a few different combinations of features and L!\n",
    "\n",
    "What combination of features and distance function provide the lowest RMSE?  Do your decisions affect the running time of the algorithm?"
   ]
  },
  {
   "cell_type": "code",
   "execution_count": 149,
   "metadata": {
    "collapsed": false
   },
   "outputs": [
    {
     "name": "stdout",
     "output_type": "stream",
     "text": [
      "Time Taken is : 0.0165450572968\n",
      "With L = 2 and LSAT and AGE as varaibles 7.59468554681\n",
      "Time Taken is : 0.0184001922607\n",
      "With L = 4 and LSAT and AGE as varaibles 7.41175835074\n",
      "Time Taken is : 0.0318911075592\n",
      "With L = 6 and LSAT and AGE as varaibles 7.40256946486\n",
      "Time Taken is : 0.0228190422058\n",
      "With L = 8 and LSAT and AGE as varaibles 7.40457209171\n"
     ]
    }
   ],
   "source": [
    "test3 = np.vstack((normalize(bdata_test[:,12], np.mean(bdata_test[:,12]), np.std(bdata_test[:,12])), \n",
    "                  normalize(bdata_test[:,9], np.mean(bdata_test[:,9]), np.std(bdata_test[:,9])), \n",
    "                  (bdata_test[:,13]))).T\n",
    "\n",
    "train3 = np.vstack((normalize(bdata_train[:,12], np.mean(bdata_train[:,12]), np.std(bdata_train[:,12])), \n",
    "                   normalize(bdata_train[:,9], np.mean(bdata_train[:,9]), np.std(bdata_train[:,9])), \n",
    "                   (bdata_train[:,13]))).T\n",
    "\n",
    "print 'With L = 2 and LSAT and AGE as varaibles ' + str(neighbor(train3, test3, [0,1], [2], 2))\n",
    "print 'With L = 4 and LSAT and AGE as varaibles ' + str(neighbor(train3, test3, [0,1], [2], 4))\n",
    "print 'With L = 6 and LSAT and AGE as varaibles ' + str(neighbor(train3, test3, [0,1], [2], 6))\n",
    "print 'With L = 8 and LSAT and AGE as varaibles ' + str(neighbor(train3, test3, [0,1], [2], 8))\n",
    "\n"
   ]
  },
  {
   "cell_type": "markdown",
   "metadata": {},
   "source": [
    "### 3.5 Cross-Validation\n",
    "\n",
    "The more you tinkered with your features and distance function, the higher the risk that you overfit your training data.  To prevent this sort of overfitting, you need to use cross-validation (see K-fold [cross-validation](http://en.wikipedia.org/wiki/Cross-validation_(statistics)).  Here you must implement a simple k-fold cross-validation algorithm yourself.  The function you write here will be used several more times in this problem set, so do your best to write efficient code! (Note that the sklearn package has a built-in [K-fold](http://scikit-learn.org/stable/modules/cross_validation.html#cross-validation) iterator -- you should *not* be invoking that or any related algorithms in this section of the problem set.)\n",
    "\n",
    "Use 10-fold cross-validation and report the average RMSE for Nearest Neighbors using Euclidean distance with CRIM and RM input features, as well as the total running time for the full run of 10 folds.  In other words, randomly divide your dataset into 10 equally-sized samples, and for each of 10 iterations (the \"folds\"), use 9 samples as \"training data\" (even though there is no training in k-NN!), and the remaining 1 sample for testing.  Compute the RMSE of that particular test set, then move on to the next iteration.  Report the average RMSE across the 10 iterations."
   ]
  },
  {
   "cell_type": "code",
   "execution_count": 142,
   "metadata": {
    "collapsed": false
   },
   "outputs": [
    {
     "name": "stdout",
     "output_type": "stream",
     "text": [
      "Output of 10-fold cross validation using CRIM and RM: \n",
      "\n",
      "Time Taken is : 0.00673985481262\n",
      "('Average RMSE is ', '4.88127032646')\n",
      "Time Taken is : 0.00628185272217\n",
      "('Average RMSE is ', '4.61842073578')\n",
      "Time Taken is : 0.0123729705811\n",
      "('Average RMSE is ', '4.58424889881')\n",
      "Time Taken is : 0.00962805747986\n",
      "('Average RMSE is ', '4.91142715006')\n",
      "Time Taken is : 0.00784397125244\n",
      "('Average RMSE is ', '4.96893016007')\n",
      "Time Taken is : 0.00775694847107\n",
      "('Average RMSE is ', '4.9452901702')\n",
      "Time Taken is : 0.00401592254639\n",
      "('Average RMSE is ', '4.97887805868')\n",
      "Time Taken is : 0.00398993492126\n",
      "('Average RMSE is ', '5.89410468103')\n",
      "Time Taken is : 0.00355792045593\n",
      "('Average RMSE is ', '6.2767368467')\n",
      "Time Taken is : 0.00373101234436\n",
      "('Average RMSE is ', '6.94231763925')\n",
      "('Total Time taken for CV ', '0.0824341773987')\n",
      "6.94231763925\n"
     ]
    }
   ],
   "source": [
    "#getting indices of k-fold data\n",
    "def partition(l, n):\n",
    "    for i in range(0, len(l), n):\n",
    "        yield l[i:i+n]\n",
    "\n",
    "# performing K-fold cross validation \n",
    "def kfoldcv(data, K, func, L, column, target, k=1):\n",
    "    start_time = time.time()\n",
    "    \n",
    "    # Creating windows each with indices\n",
    "    window = list(partition(range(len(data)),int(len(data)/K)))\n",
    "    \n",
    "    # considering only k windows\n",
    "    if len(window) > K:\n",
    "        window[K-1] = window[K-1] + window[K]\n",
    "        window.remove(window[K])\n",
    "     \n",
    "    rmse = []\n",
    "    \n",
    "    # splitting train and test using 'k-1' folds for train and 1 fold for test\n",
    "    for i in range(K):\n",
    "        testKF = window[i]\n",
    "        trainKF = range(len(data))\n",
    "        trainKF = [elem for elem in trainKF if elem not in testKF]\n",
    "        \n",
    "        train = data[trainKF,:]\n",
    "        test = data[testKF,:]\n",
    "        \n",
    "        # RMSE of every k fold \n",
    "        rmse.append(func(train, test, column, target, L, k))\n",
    "        \n",
    "        # average RMSE for whole k-fold CV\n",
    "        print('Average RMSE is ', str(np.mean(rmse)))\n",
    "    \n",
    "    # Total time taken\n",
    "    print ('Total Time taken for CV ', str(time.time()-start_time))\n",
    "    \n",
    "    # mean of the all the RMSE of the K-fold CV\n",
    "    return np.mean(rmse)\n",
    "    \n",
    "\n",
    "\n",
    "# Normalizing data\n",
    "normalData = np.vstack((normalize2(bdata.data[:,0]),\n",
    "                    normalize2(bdata.data[:,5]),\n",
    "                    (bdata.target))).T\n",
    "\n",
    "# passing normalized data through K-fold cross validation and using the 'neighbor' function\n",
    "print 'Output of 10-fold cross validation using CRIM and RM: \\n'\n",
    "print kfoldcv(normalData, 10, neighbor,2,[0,1], [2], 3)"
   ]
  },
  {
   "cell_type": "markdown",
   "metadata": {},
   "source": [
    "### 3.6 K-Nearest Neighbors Algorithm\n",
    "\n",
    "Implement the K-Nearest Neighbors algorithm.  Using 10-fold cross validation, report the RMSE for K=3 and the running time of the algorithm."
   ]
  },
  {
   "cell_type": "code",
   "execution_count": 138,
   "metadata": {
    "collapsed": false
   },
   "outputs": [
    {
     "name": "stdout",
     "output_type": "stream",
     "text": [
      "RMSE of non-normalized data of predictor variables of RM and CRIM \n",
      "\n",
      "6.70820345379\n"
     ]
    }
   ],
   "source": [
    "\"\"\"\n",
    "Function\n",
    "--------\n",
    "knn\n",
    "    Given test and train data along with other values, this function predicts the 'target' based on the average of the \n",
    "    K nearest neighbors from the training set.\n",
    "\n",
    "Parameters\n",
    "----------\n",
    "train, test : arrays\n",
    "    Multi-dimensional arrays\n",
    "\n",
    "col_num, target : array\n",
    "    1D arrays specifying the predictors and the target columns in test and train data\n",
    "\n",
    "L, K : integers\n",
    "    L = value of the L in L-norm distance\n",
    "    K = value of the k in k-nearest neighbors\n",
    "\n",
    "Returns\n",
    "-------\n",
    "rmse : int\n",
    "    The RMSE value between predicted and original target value based on k nearest neighbors \n",
    "\n",
    "Example\n",
    "-------\n",
    ">>> print knn(bdata_train, bdata_test,[0,5],[13],2, 3)\n",
    "Time Taken is : 0.0110039710999\n",
    "7.45009989459\n",
    "\"\"\"\n",
    "\n",
    "def knn(train, test, col_num, target, L, K):\n",
    "    start_time = time.time()\n",
    "    result = []\n",
    "    for j in range(len(test)):\n",
    "        #using the distance function to calculate the distance between test & train instances\n",
    "        dist1 = distance(train[:,col_num], test[j,col_num], L)        \n",
    "        dist1 = dist1[:, np.newaxis]\n",
    "        dist2 = np.append(dist1, train[:,target],1)\n",
    "        #sorting to get the minimum distances first\n",
    "        sortd = dist2[np.argsort(dist2[:,0]),:]\n",
    "        #apppending to the final result\n",
    "        result.append(np.mean(sortd[0:K], axis = 0))\n",
    "   \n",
    "    result = np.array(result)\n",
    "    resultMain = np.append(result, test[:,target],1)\n",
    "    #finding root mean square error\n",
    "    rmse = compute_rmse(resultMain[:,1], resultMain[:,2])\n",
    "\n",
    "    return rmse\n",
    "\n",
    "print(\"RMSE of non-normalized data of predictor variables of RM and CRIM \\n\")\n",
    "print(knn(bdata_train, bdata_test, [0,5], [13], 2, 3)) "
   ]
  },
  {
   "cell_type": "markdown",
   "metadata": {},
   "source": [
    "### 3.7 Using cross validation to find K\n",
    "\n",
    "What is the best choice of K?  Compute the RMSE for values of K between 1 and 25 using 10-fold cross-validation.  Use the following features in your model, and don't forget to normalize: CRIM, ZN, RM, AGE, DIS, TAX.  Create a graph that shows how RMSE changes as K increases from 1 to 25.  Label your axes, and summarize what you see.  What do you think is a reasonable choice of K for this model?"
   ]
  },
  {
   "cell_type": "code",
   "execution_count": 139,
   "metadata": {
    "collapsed": false
   },
   "outputs": [
    {
     "name": "stdout",
     "output_type": "stream",
     "text": [
      "('Average RMSE is ', '4.42590103821')\n",
      "('Average RMSE is ', '3.7276617127')\n",
      "('Average RMSE is ', '4.18880966032')\n",
      "('Average RMSE is ', '5.05573237176')\n",
      "('Average RMSE is ', '4.82691575112')\n",
      "('Average RMSE is ', '4.96346350318')\n",
      "('Average RMSE is ', '4.74721095111')\n",
      "('Average RMSE is ', '5.89065298334')\n",
      "('Average RMSE is ', '5.92955834415')\n",
      "('Average RMSE is ', '6.07447106171')\n",
      "('Total Time taken for CV ', '0.13422203064')\n",
      "('Average RMSE is ', '4.02971463009')\n",
      "('Average RMSE is ', '3.42843433806')\n",
      "('Average RMSE is ', '3.77400754961')\n",
      "('Average RMSE is ', '4.63358549267')\n",
      "('Average RMSE is ', '4.31363193951')\n",
      "('Average RMSE is ', '4.37580893804')\n",
      "('Average RMSE is ', '4.25972406697')\n",
      "('Average RMSE is ', '5.46257035515')\n",
      "('Average RMSE is ', '5.58957868379')\n",
      "('Average RMSE is ', '5.7109109321')\n",
      "('Total Time taken for CV ', '0.183096170425')\n",
      "('Average RMSE is ', '4.03652766069')\n",
      "('Average RMSE is ', '3.32169733033')\n",
      "('Average RMSE is ', '3.4968257498')\n",
      "('Average RMSE is ', '4.46532113304')\n",
      "('Average RMSE is ', '4.22720185747')\n",
      "('Average RMSE is ', '4.29378292797')\n",
      "('Average RMSE is ', '4.1645682936')\n",
      "('Average RMSE is ', '5.3065280628')\n",
      "('Average RMSE is ', '5.36806075883')\n",
      "('Average RMSE is ', '5.49972100388')\n",
      "('Total Time taken for CV ', '0.124442815781')\n",
      "('Average RMSE is ', '4.03200167411')\n",
      "('Average RMSE is ', '3.21648641589')\n",
      "('Average RMSE is ', '3.42853717931')\n",
      "('Average RMSE is ', '4.39023342393')\n",
      "('Average RMSE is ', '4.17535036903')\n",
      "('Average RMSE is ', '4.2594766695')\n",
      "('Average RMSE is ', '4.0890223776')\n",
      "('Average RMSE is ', '5.22437609174')\n",
      "('Average RMSE is ', '5.29335663967')\n",
      "('Average RMSE is ', '5.3799865722')\n",
      "('Total Time taken for CV ', '0.119462966919')\n",
      "('Average RMSE is ', '3.99216532724')\n",
      "('Average RMSE is ', '3.24362344452')\n",
      "('Average RMSE is ', '3.36963281533')\n",
      "('Average RMSE is ', '4.28603784774')\n",
      "('Average RMSE is ', '4.15692785407')\n",
      "('Average RMSE is ', '4.22857687731')\n",
      "('Average RMSE is ', '4.02304080444')\n",
      "('Average RMSE is ', '5.14771738493')\n",
      "('Average RMSE is ', '5.20287320571')\n",
      "('Average RMSE is ', '5.24387292655')\n",
      "('Total Time taken for CV ', '0.093230009079')\n",
      "('Average RMSE is ', '4.0347476859')\n",
      "('Average RMSE is ', '3.23931446708')\n",
      "('Average RMSE is ', '3.39141172807')\n",
      "('Average RMSE is ', '4.26811892516')\n",
      "('Average RMSE is ', '4.17047030139')\n",
      "('Average RMSE is ', '4.20452583243')\n",
      "('Average RMSE is ', '3.98413668672')\n",
      "('Average RMSE is ', '5.08099466674')\n",
      "('Average RMSE is ', '5.2419885949')\n",
      "('Average RMSE is ', '5.27581843695')\n",
      "('Total Time taken for CV ', '0.0915739536285')\n",
      "('Average RMSE is ', '4.08675960654')\n",
      "('Average RMSE is ', '3.29287806992')\n",
      "('Average RMSE is ', '3.44424147939')\n",
      "('Average RMSE is ', '4.3252782067')\n",
      "('Average RMSE is ', '4.25619733677')\n",
      "('Average RMSE is ', '4.27879334489')\n",
      "('Average RMSE is ', '4.0381783905')\n",
      "('Average RMSE is ', '5.10683614824')\n",
      "('Average RMSE is ', '5.25577900525')\n",
      "('Average RMSE is ', '5.26553644689')\n",
      "('Total Time taken for CV ', '0.0871200561523')\n",
      "('Average RMSE is ', '4.14888162641')\n",
      "('Average RMSE is ', '3.29303984232')\n",
      "('Average RMSE is ', '3.48381382951')\n",
      "('Average RMSE is ', '4.34413310438')\n",
      "('Average RMSE is ', '4.28236340529')\n",
      "('Average RMSE is ', '4.31642457698')\n",
      "('Average RMSE is ', '4.0677773025')\n",
      "('Average RMSE is ', '5.13500860362')\n",
      "('Average RMSE is ', '5.25869233986')\n",
      "('Average RMSE is ', '5.25006386435')\n",
      "('Total Time taken for CV ', '0.105574131012')\n",
      "('Average RMSE is ', '4.19745337256')\n",
      "('Average RMSE is ', '3.27835625777')\n",
      "('Average RMSE is ', '3.53898394001')\n",
      "('Average RMSE is ', '4.41967874213')\n",
      "('Average RMSE is ', '4.35863461311')\n",
      "('Average RMSE is ', '4.39685696089')\n",
      "('Average RMSE is ', '4.15687460088')\n",
      "('Average RMSE is ', '5.20490760397')\n",
      "('Average RMSE is ', '5.31093442255')\n",
      "('Average RMSE is ', '5.27256272063')\n",
      "('Total Time taken for CV ', '0.0885241031647')\n",
      "('Average RMSE is ', '4.28034274329')\n",
      "('Average RMSE is ', '3.29006006191')\n",
      "('Average RMSE is ', '3.51817851751')\n",
      "('Average RMSE is ', '4.43449214395')\n",
      "('Average RMSE is ', '4.39736248371')\n",
      "('Average RMSE is ', '4.44213547453')\n",
      "('Average RMSE is ', '4.20064025647')\n",
      "('Average RMSE is ', '5.23454571184')\n",
      "('Average RMSE is ', '5.3357301089')\n",
      "('Average RMSE is ', '5.26355729617')\n",
      "('Total Time taken for CV ', '0.109372138977')\n",
      "('Average RMSE is ', '4.29527493612')\n",
      "('Average RMSE is ', '3.30314404725')\n",
      "('Average RMSE is ', '3.54811181671')\n",
      "('Average RMSE is ', '4.4744769312')\n",
      "('Average RMSE is ', '4.46218988822')\n",
      "('Average RMSE is ', '4.50514361966')\n",
      "('Average RMSE is ', '4.25621116522')\n",
      "('Average RMSE is ', '5.28228841106')\n",
      "('Average RMSE is ', '5.39692775023')\n",
      "('Average RMSE is ', '5.29875070796')\n",
      "('Total Time taken for CV ', '0.0986299514771')\n",
      "('Average RMSE is ', '4.2840604117')\n",
      "('Average RMSE is ', '3.32313770754')\n",
      "('Average RMSE is ', '3.54714968863')\n",
      "('Average RMSE is ', '4.50225702516')\n",
      "('Average RMSE is ', '4.50032158796')\n",
      "('Average RMSE is ', '4.56186345037')\n",
      "('Average RMSE is ', '4.30946886741')\n",
      "('Average RMSE is ', '5.32130093122')\n",
      "('Average RMSE is ', '5.4309020744')\n",
      "('Average RMSE is ', '5.33036085089')\n",
      "('Total Time taken for CV ', '0.0826919078827')\n",
      "('Average RMSE is ', '4.34445262824')\n",
      "('Average RMSE is ', '3.34815047542')\n",
      "('Average RMSE is ', '3.57446083314')\n",
      "('Average RMSE is ', '4.55504140899')\n",
      "('Average RMSE is ', '4.55203662014')\n",
      "('Average RMSE is ', '4.61364144059')\n",
      "('Average RMSE is ', '4.35202687571')\n",
      "('Average RMSE is ', '5.36240138248')\n",
      "('Average RMSE is ', '5.47259507549')\n",
      "('Average RMSE is ', '5.38125777299')\n",
      "('Total Time taken for CV ', '0.0726139545441')\n",
      "('Average RMSE is ', '4.32993354335')\n",
      "('Average RMSE is ', '3.30019353136')\n",
      "('Average RMSE is ', '3.50762437628')\n",
      "('Average RMSE is ', '4.49972987573')\n",
      "('Average RMSE is ', '4.49874738535')\n",
      "('Average RMSE is ', '4.59421727085')\n",
      "('Average RMSE is ', '4.33733527572')\n",
      "('Average RMSE is ', '5.35057566104')\n",
      "('Average RMSE is ', '5.46653584686')\n",
      "('Average RMSE is ', '5.39222050596')\n",
      "('Total Time taken for CV ', '0.0740540027618')\n",
      "('Average RMSE is ', '4.32700306859')\n",
      "('Average RMSE is ', '3.30831874435')\n",
      "('Average RMSE is ', '3.5084361777')\n",
      "('Average RMSE is ', '4.4994669835')\n",
      "('Average RMSE is ', '4.50790725041')\n",
      "('Average RMSE is ', '4.6246809817')\n",
      "('Average RMSE is ', '4.36763540761')\n",
      "('Average RMSE is ', '5.37487145256')\n",
      "('Average RMSE is ', '5.49124025736')\n",
      "('Average RMSE is ', '5.40936628364')\n",
      "('Total Time taken for CV ', '0.0583322048187')\n",
      "('Average RMSE is ', '4.32234410867')\n",
      "('Average RMSE is ', '3.33468599159')\n",
      "('Average RMSE is ', '3.53137429033')\n",
      "('Average RMSE is ', '4.51943102742')\n",
      "('Average RMSE is ', '4.54439602773')\n",
      "('Average RMSE is ', '4.65830106298')\n",
      "('Average RMSE is ', '4.39556815403')\n",
      "('Average RMSE is ', '5.39901813855')\n",
      "('Average RMSE is ', '5.50665396046')\n",
      "('Average RMSE is ', '5.41989443475')\n",
      "('Total Time taken for CV ', '0.0644950866699')\n",
      "('Average RMSE is ', '4.37166030712')\n",
      "('Average RMSE is ', '3.39348509179')\n",
      "('Average RMSE is ', '3.56579107316')\n",
      "('Average RMSE is ', '4.55859014623')\n",
      "('Average RMSE is ', '4.59180271805')\n",
      "('Average RMSE is ', '4.72262498459')\n",
      "('Average RMSE is ', '4.44501931672')\n",
      "('Average RMSE is ', '5.43573313025')\n",
      "('Average RMSE is ', '5.53670618483')\n",
      "('Average RMSE is ', '5.45186121768')\n",
      "('Total Time taken for CV ', '0.0569348335266')\n",
      "('Average RMSE is ', '4.38460064767')\n",
      "('Average RMSE is ', '3.3699840858')\n",
      "('Average RMSE is ', '3.5255759708')\n",
      "('Average RMSE is ', '4.52570129253')\n",
      "('Average RMSE is ', '4.58570852483')\n",
      "('Average RMSE is ', '4.74701605317')\n",
      "('Average RMSE is ', '4.46673490863')\n",
      "('Average RMSE is ', '5.4510469738')\n",
      "('Average RMSE is ', '5.57622784153')\n",
      "('Average RMSE is ', '5.49641691593')\n",
      "('Total Time taken for CV ', '0.060662984848')\n",
      "('Average RMSE is ', '4.37723910252')\n",
      "('Average RMSE is ', '3.37899851511')\n",
      "('Average RMSE is ', '3.52122234125')\n",
      "('Average RMSE is ', '4.5329461172')\n",
      "('Average RMSE is ', '4.60704822095')\n",
      "('Average RMSE is ', '4.77404796076')\n",
      "('Average RMSE is ', '4.49059765169')\n",
      "('Average RMSE is ', '5.46888219477')\n",
      "('Average RMSE is ', '5.58051371706')\n",
      "('Average RMSE is ', '5.4960017238')\n",
      "('Total Time taken for CV ', '0.0560898780823')\n",
      "('Average RMSE is ', '4.38543692236')\n",
      "('Average RMSE is ', '3.33405884643')\n",
      "('Average RMSE is ', '3.50577236338')\n",
      "('Average RMSE is ', '4.54596485833')\n",
      "('Average RMSE is ', '4.63612645838')\n",
      "('Average RMSE is ', '4.83313210901')\n",
      "('Average RMSE is ', '4.5451181427')\n",
      "('Average RMSE is ', '5.51323481047')\n",
      "('Average RMSE is ', '5.63953048307')\n",
      "('Average RMSE is ', '5.54791222731')\n",
      "('Total Time taken for CV ', '0.0549900531769')\n",
      "('Average RMSE is ', '4.30578448664')\n",
      "('Average RMSE is ', '3.2986851987')\n",
      "('Average RMSE is ', '3.48315683692')\n",
      "('Average RMSE is ', '4.54772680996')\n",
      "('Average RMSE is ', '4.64473344396')\n",
      "('Average RMSE is ', '4.85453933221')\n",
      "('Average RMSE is ', '4.56914094304')\n",
      "('Average RMSE is ', '5.52711487886')\n",
      "('Average RMSE is ', '5.64206759975')\n",
      "('Average RMSE is ', '5.54946741649')\n",
      "('Total Time taken for CV ', '0.0636250972748')\n",
      "('Average RMSE is ', '4.2723898803')\n",
      "('Average RMSE is ', '3.25527767958')\n",
      "('Average RMSE is ', '3.43039466546')\n",
      "('Average RMSE is ', '4.52599682489')\n",
      "('Average RMSE is ', '4.63883339914')\n",
      "('Average RMSE is ', '4.85901058017')\n",
      "('Average RMSE is ', '4.57672910421')\n",
      "('Average RMSE is ', '5.52948749219')\n",
      "('Average RMSE is ', '5.6453347685')\n",
      "('Average RMSE is ', '5.55256268315')\n",
      "('Total Time taken for CV ', '0.0881171226501')\n",
      "('Average RMSE is ', '4.27958538175')\n",
      "('Average RMSE is ', '3.26733757553')\n",
      "('Average RMSE is ', '3.41633835441')\n",
      "('Average RMSE is ', '4.54482971543')\n",
      "('Average RMSE is ', '4.65693683554')\n",
      "('Average RMSE is ', '4.88452980678')\n",
      "('Average RMSE is ', '4.59301786942')\n",
      "('Average RMSE is ', '5.54831104555')\n",
      "('Average RMSE is ', '5.66250499133')\n",
      "('Average RMSE is ', '5.56943251143')\n",
      "('Total Time taken for CV ', '0.0692031383514')\n",
      "('Average RMSE is ', '4.29308265475')\n",
      "('Average RMSE is ', '3.29016874947')\n",
      "('Average RMSE is ', '3.41316345297')\n",
      "('Average RMSE is ', '4.56021152043')\n",
      "('Average RMSE is ', '4.67615890771')\n",
      "('Average RMSE is ', '4.91463526534')\n",
      "('Average RMSE is ', '4.61764615628')\n",
      "('Average RMSE is ', '5.56897321015')\n",
      "('Average RMSE is ', '5.68854325829')\n",
      "('Average RMSE is ', '5.59273131663')\n",
      "('Total Time taken for CV ', '0.0601918697357')\n",
      "('Average RMSE is ', '4.31448789082')\n",
      "('Average RMSE is ', '3.29727994484')\n",
      "('Average RMSE is ', '3.40191334676')\n",
      "('Average RMSE is ', '4.56162372758')\n",
      "('Average RMSE is ', '4.69920368783')\n",
      "('Average RMSE is ', '4.95632599315')\n",
      "('Average RMSE is ', '4.65547910996')\n",
      "('Average RMSE is ', '5.59968718142')\n",
      "('Average RMSE is ', '5.72178320191')\n",
      "('Average RMSE is ', '5.61357141992')\n",
      "('Total Time taken for CV ', '0.0711598396301')\n",
      "The best value of K for KNN classifier for this data is : 5\n"
     ]
    }
   ],
   "source": [
    "#computing rmse for k values between 1 to 25\n",
    "rmse = []\n",
    "temp = 100\n",
    "\n",
    "for i in range(25):\n",
    "    rmse.append(kfoldcv(norm_data, 10, knn, 2, [0,1,5,6,7,9], [13], i+1))\n",
    "    if temp > rmse[i]:\n",
    "        temp = rmse[i]\n",
    "        count = i+1\n",
    "\n",
    "\n",
    "print 'The best value of K for KNN classifier for this data is :', str(count)"
   ]
  },
  {
   "cell_type": "markdown",
   "metadata": {},
   "source": [
    "We obtained the best RMSE at k = 5 using the normalized variables CRIM, ZN, RM, AGE, DIS, TAX. "
   ]
  },
  {
   "cell_type": "code",
   "execution_count": 140,
   "metadata": {
    "collapsed": false
   },
   "outputs": [
    {
     "data": {
      "image/png": "[encoded data removed]",
      "text/plain": [
       "<matplotlib.figure.Figure at 0x11a08f150>"
      ]
     },
     "metadata": {},
     "output_type": "display_data"
    }
   ],
   "source": [
    "# Creating k values\n",
    "lst= range(0,26)\n",
    "lst.remove(0)\n",
    "\n",
    "# Plotting average RMSE v/s K\n",
    "plt.figure(figsize=(17,5))\n",
    "plot = plt.plot( lst,rmse, color = 'brown')\n",
    "plt.axhline(y = min(rmse), c = 'b', alpha = 0.5)\n",
    "plt.title('RMSE vs K : KNN algorithm')\n",
    "plt.xlabel('K values')\n",
    "plt.ylabel('Avergae RMSE')\n",
    "plt.show()"
   ]
  },
  {
   "cell_type": "code",
   "execution_count": null,
   "metadata": {
    "collapsed": true
   },
   "outputs": [],
   "source": []
  }
 ],
 "metadata": {
  "anaconda-cloud": {},
  "kernelspec": {
   "display_name": "Python 2",
   "language": "python",
   "name": "python2"
  },
  "language_info": {
   "codemirror_mode": {
    "name": "ipython",
    "version": 2
   },
   "file_extension": ".py",
   "mimetype": "text/x-python",
   "name": "python",
   "nbconvert_exporter": "python",
   "pygments_lexer": "ipython2",
   "version": "2.7.13"
  }
 },
 "nbformat": 4,
 "nbformat_minor": 0
}
